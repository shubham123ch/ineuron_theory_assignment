{
  "nbformat": 4,
  "nbformat_minor": 0,
  "metadata": {
    "colab": {
      "provenance": []
    },
    "kernelspec": {
      "name": "python3",
      "display_name": "Python 3"
    },
    "language_info": {
      "name": "python"
    }
  },
  "cells": [
    {
      "cell_type": "markdown",
      "source": [
        "shubham kumar chaturvedi SQL assignment no 8"
      ],
      "metadata": {
        "id": "-4ZklFo4GSKx"
      }
    },
    {
      "cell_type": "markdown",
      "source": [
        "Q1: Write an SQL query to fetch intersecting records of two tables.\n",
        "\n",
        "ANS: SELECT  ID, NAME, Amount, Date\n",
        "\n",
        "     FROM Customers\n",
        "\n",
        "     LEFT JOIN Orders\n",
        "\n",
        "     ON Customers.ID = Orders.Customer_id\n",
        "\n",
        "INTERSECT\n",
        "\n",
        "     SELECT  ID, NAME, Amount, Date\n",
        "\n",
        "     FROM Customers\n",
        "\n",
        "     RIGHT JOIN Orders\n",
        "\n",
        "     ON Customers.ID = Orders.Customer_id;\n",
        "\n",
        "\n",
        "Q2: Write an SQL query to show records from one table that another table does not\n",
        "have.\n",
        "\n",
        "ANS: SELECT emp_id,emp_name  \n",
        "\n",
        "FROM employee_details\n",
        "\n",
        "WHERE NOT EXISTS\n",
        "\n",
        "(SELECT *  \n",
        "   FROM  employee_resigned\n",
        "\n",
        "   WHERE employee_details.emp_id = employee_resigned.emp_id);\n",
        "\n",
        "\n",
        "   2.SELECT *\n",
        "FROM employee_details\n",
        "\n",
        "WHERE emp_id NOT IN\n",
        "\n",
        "  (SELECT emp_id  \n",
        "  FROM employee_resigned)"
      ],
      "metadata": {
        "id": "oIWyAP0SGZac"
      }
    }
  ]
}