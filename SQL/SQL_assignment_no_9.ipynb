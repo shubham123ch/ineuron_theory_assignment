{
  "nbformat": 4,
  "nbformat_minor": 0,
  "metadata": {
    "colab": {
      "provenance": []
    },
    "kernelspec": {
      "name": "python3",
      "display_name": "Python 3"
    },
    "language_info": {
      "name": "python"
    }
  },
  "cells": [
    {
      "cell_type": "markdown",
      "source": [
        "shubham kumar chaturvedi SQL assignment no 9"
      ],
      "metadata": {
        "id": "DoK_sROtH3Ev"
      }
    },
    {
      "cell_type": "markdown",
      "source": [
        "Q1: Write an SQL query to show the top n (say 10) records of a table.\n",
        "\n",
        "ANS: SELECT * FROM Worker ORDER BY Salary DESC LIMIT 10;\n",
        "\n",
        "Q2: Write an SQL query to determine the nth (say n=5) highest salary from a table.\n",
        "\n",
        "ANS: Select Emp_name from table_name where Salary =( Select Salary from table_name order by Salary DESC limit n-1,1);"
      ],
      "metadata": {
        "id": "SfzriAp6H6kL"
      }
    }
  ]
}