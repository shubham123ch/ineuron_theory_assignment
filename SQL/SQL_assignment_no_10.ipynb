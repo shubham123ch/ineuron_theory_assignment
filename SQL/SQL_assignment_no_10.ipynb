{
  "nbformat": 4,
  "nbformat_minor": 0,
  "metadata": {
    "colab": {
      "provenance": []
    },
    "kernelspec": {
      "name": "python3",
      "display_name": "Python 3"
    },
    "language_info": {
      "name": "python"
    }
  },
  "cells": [
    {
      "cell_type": "markdown",
      "source": [
        "shubham kumar chaturvedi SQL assignment no 10"
      ],
      "metadata": {
        "id": "LdW3EF2SIvnh"
      }
    },
    {
      "cell_type": "markdown",
      "source": [
        "Q1: Write an SQL query to determine the 5th highest salary without using TOP or limit\n",
        "method.\n",
        "\n",
        "ANS: SELECT * FROM (\n",
        "SELECT ROW_NUMBER() OVER (ORDER BY SALARY DESC) AS rownumber,Salary.\n",
        "FROM Employee )\n",
        "AS foo.\n",
        "WHERE rownumber = 5.\n",
        "\n",
        "\n",
        "Q2: Write an SQL query to fetch the list of employees with the same salary.\n",
        "\n",
        "ANS: select distinct e.name,e.salary from employe e, employe a  where e.salary = a.salary and e.name != a.name;"
      ],
      "metadata": {
        "id": "spjownDmIzlQ"
      }
    }
  ]
}