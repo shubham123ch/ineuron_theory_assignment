{
  "nbformat": 4,
  "nbformat_minor": 0,
  "metadata": {
    "colab": {
      "provenance": []
    },
    "kernelspec": {
      "name": "python3",
      "display_name": "Python 3"
    },
    "language_info": {
      "name": "python"
    }
  },
  "cells": [
    {
      "cell_type": "markdown",
      "source": [
        "shubham kumar chaturvedi SQL assignment no 7 "
      ],
      "metadata": {
        "id": "U8ZRZPVDFG4K"
      }
    },
    {
      "cell_type": "markdown",
      "source": [
        "Q1: Write an SQL query to show only odd rows from a table.\n",
        "\n",
        "ANS: SELECT * FROM table_name WHERE mod(column_name,2) = 0;\n",
        "\n",
        "Q2: Write an SQL query to clone a new table from another table.\n",
        "\n",
        "ANS: CREATE TABLE new_table SELECT * FROM original_table;\n",
        "\n",
        "CREATE TABLE adminUsers SELECT * FROM users;\n",
        "\n",
        "CREATE TABLE new_table LIKE original_table;"
      ],
      "metadata": {
        "id": "7YH67DR-FPcx"
      }
    }
  ]
}