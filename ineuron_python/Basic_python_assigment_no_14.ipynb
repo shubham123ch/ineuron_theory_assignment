{
  "nbformat": 4,
  "nbformat_minor": 0,
  "metadata": {
    "colab": {
      "provenance": []
    },
    "kernelspec": {
      "name": "python3",
      "display_name": "Python 3"
    },
    "language_info": {
      "name": "python"
    }
  },
  "cells": [
    {
      "cell_type": "markdown",
      "source": [
        "# Shubham Kumar Chaturvedi(Basic_python assigment no: 14)"
      ],
      "metadata": {
        "id": "tPK9WKBpNEbl"
      }
    },
    {
      "cell_type": "markdown",
      "source": [
        "Q1: What does RGBA stand for?\n",
        "\n",
        "ANS: An RGB color value represents RED, GREEN, and BLUE light sources. An RGBA color value is an extension of RGB with an Alpha channel (opacity).\n",
        "\n",
        "Q2: From the Pillow module, how do you get the RGBA value of any images?\n",
        "\n",
        "ANS: import the Image module from the Pillow library. from PIL import Image.\n",
        "Open any image and get the RAGBAG values. img = Image.open('image.png') rgba = img.convert(“RGBA”) .\n",
        "Change the color. Data will be an Imaging Core object containing thousands of tuples of RGBA values. \n",
        "Store the changed image.\n",
        "\n",
        "\n",
        "Q3: What is a box tuple, and how does it work?\n",
        "\n",
        "ANS: The box. tuple submodule provides read-only access for the tuple userdata type. It allows, for a single tuple: selective retrieval of the field contents, retrieval of information about size, iteration over all the fields, and conversion to a Lua table.\n",
        "\n",
        "Q4: Use your image and load in notebook then, How can you find out the width and height of an\n",
        "Image object?\n",
        "\n",
        "ANS: "
      ],
      "metadata": {
        "id": "ImzE--PYNHq9"
      }
    },
    {
      "cell_type": "code",
      "execution_count": 1,
      "metadata": {
        "colab": {
          "base_uri": "https://localhost:8080/"
        },
        "id": "T1RZ96A1M-K3",
        "outputId": "97e6872a-b328-4f0f-cadb-36d3aebf7639"
      },
      "outputs": [
        {
          "output_type": "stream",
          "name": "stdout",
          "text": [
            "The height of the image is:  19008\n",
            "The width of the image is:  6400\n"
          ]
        },
        {
          "output_type": "stream",
          "name": "stderr",
          "text": [
            "/usr/local/lib/python3.8/dist-packages/PIL/Image.py:2797: DecompressionBombWarning: Image size (121651200 pixels) exceeds limit of 89478485 pixels, could be decompression bomb DOS attack.\n",
            "  warnings.warn(\n"
          ]
        }
      ],
      "source": [
        "# import required module\n",
        "from PIL import Image\n",
        "\n",
        "# get image\n",
        "filepath = \"/content/drive/MyDrive/DS1/Deep Learning/Class Notes Day 03.jpg\"\n",
        "img = Image.open(filepath)\n",
        "\n",
        "# get width and height\n",
        "width = img.width\n",
        "height = img.height\n",
        "\n",
        "# display width and height\n",
        "print(\"The height of the image is: \", height)\n",
        "print(\"The width of the image is: \", width)\n"
      ]
    },
    {
      "cell_type": "markdown",
      "source": [
        "Q5: What method would you call to get Image object for a 100×100 image, excluding the lower-left\n",
        "quarter of it?\n",
        "\n",
        "ANS: The paste() method takes two arguments: a “source” Image object and a tuple of the x- and y-coordinates where you want to paste the top-left corner of the image.\n",
        "\n",
        "\n",
        "Q6: After making changes to an Image object, how could you save it as an image file?\n",
        "\n",
        "ANS: Using the save() method, PIL can save images in most image file formats.\n",
        "\n",
        "Q7: What module contains Pillow’s shape-drawing code?\n",
        "\n",
        "ANS: The 'ImageDraw' module provides simple 2D graphics support for Image Object. Generally, we use this module to create new images, annotate or retouch existing images and to generate graphics on the fly for web use.\n",
        "\n",
        "Q8: Image objects do not have drawing methods. What kind of object does? How do you get this kind\n",
        "of object?\n",
        "\n",
        "ANS: This object has several methods for drawing shapes and text onto an Image object. Store the ImageDraw object in a variable like draw so you can use it easily\n",
        "\n",
        "Click on the tool that represents the type of object you want to create or select the object from the AutoShape tool."
      ],
      "metadata": {
        "id": "2saS66ytTlhn"
      }
    }
  ]
}