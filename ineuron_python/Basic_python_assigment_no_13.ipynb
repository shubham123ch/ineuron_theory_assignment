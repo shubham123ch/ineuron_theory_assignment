{
  "nbformat": 4,
  "nbformat_minor": 0,
  "metadata": {
    "colab": {
      "provenance": []
    },
    "kernelspec": {
      "name": "python3",
      "display_name": "Python 3"
    },
    "language_info": {
      "name": "python"
    }
  },
  "cells": [
    {
      "cell_type": "markdown",
      "source": [
        "# Shubham Kumar Chaturvedi(Basic_python assigment no: 13)"
      ],
      "metadata": {
        "id": "PdEv6hsQJKsu"
      }
    },
    {
      "cell_type": "markdown",
      "source": [
        "Q1: What advantages do Excel spreadsheets have over CSV spreadsheets?\n",
        "\n",
        "ANS: In CSV, the user writes the column headers only once. While importing the data, excel consumes much of the memory. While importing the data, csv consumes less of memory and it can be much faster.\n",
        "\n",
        "Q2: 2.What do you pass to csv.reader() and csv.writer() to create reader and writer objects?\n",
        "\n",
        "ANS: First, call open() and pass it 'w' to open a file in write mode . This will create the object can then pass to csv. writer() to create a Writer object. On Windows,also need to pass a blank string for the open() function's newline keyword argument.\n",
        "\n",
        "\n",
        "Q3: What modes do File objects for reader and writer objects need to be opened in?\n",
        "\n",
        "ANS: In order to open a file for reading or writing purposes, we must use the built-in open() function. The open() function uses two arguments.\n",
        "\n",
        "Q4: What method takes a list argument and writes it to a CSV file?\n",
        "\n",
        "ANS: A CSV file is a bounded text format which uses a comma to separate values. The most common method to write data from a list to CSV file is the writerow() method of writer and DictWriter class.\n",
        "\n",
        "Q5: What do the keyword arguments delimiter and line terminator do?\n",
        "\n",
        "ANS: The delimiter is the character that appears between cells on a row. By default, the delimiter for a CSV file is a comma. The line terminator is the character that comes at the end of a row. By default, the line terminator is a newline.\n",
        "\n",
        "Q6: What function takes a string of JSON data and returns a Python data structure?\n",
        "\n",
        "ANS: If you have a JSON string, you can parse it by using the json.loads() method. The result will be a Python dictionary.\n",
        "\n",
        "Q7: What function takes a Python data structure and returns a string of JSON data?\n",
        "\n",
        "ANS: If you have a Python object, you can convert it into a JSON string by using the json.dumps() method."
      ],
      "metadata": {
        "id": "9DoLRfyuJfpS"
      }
    }
  ]
}