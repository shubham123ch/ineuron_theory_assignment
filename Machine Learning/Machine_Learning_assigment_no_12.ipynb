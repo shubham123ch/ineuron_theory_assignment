{
  "nbformat": 4,
  "nbformat_minor": 0,
  "metadata": {
    "colab": {
      "provenance": []
    },
    "kernelspec": {
      "name": "python3",
      "display_name": "Python 3"
    },
    "language_info": {
      "name": "python"
    }
  },
  "cells": [
    {
      "cell_type": "markdown",
      "source": [
        "# Shubham Kumar Chaturvedi(Machine_Learning assigment no: 12)"
      ],
      "metadata": {
        "id": "J2rKJqasaX2c"
      }
    },
    {
      "cell_type": "markdown",
      "source": [
        "Q1: What is prior probability? Give an example.\n",
        "\n",
        "ANS: In Bayesian statistical inference, a prior probability distribution, often simply called the prior, of an uncertain quantity is the probability distribution that would express one's beliefs about this quantity before some evidence is taken into account.\n",
        "\n",
        " For example, in the mortgage case, P(Y) is the default rate on a home mortgage, which is 2%. P(Y|X) is called the conditional probability, which provides the probability of an outcome given the evidence, that is, when the value of X is known.\n",
        "\n",
        " Q2: What is posterior probability? Give an example.\n",
        "\n",
        " ANS: Posterior probability is a revised probability that takes into account new available information. For example, let there be two urns, urn A having 5 black balls and 10 red balls and urn B having 10 black balls and 5 red balls. Now if an urn is selected at random, the probability that urn A is chosen is 0.5.\n",
        "\n",
        "\n",
        "Q3: What is likelihood probability? Give an example.\n",
        "\n",
        "ANS: The term \"probability\" refers to the possibility of something happening. The term Likelihood refers to the process of determining the best data distribution given a specific situation in the data. When calculating the probability of a given outcome, you assume the model's parameters are reliable.\n",
        "\n",
        "Q4: 4. What is Naïve Bayes classifier? Why is it named so?\n",
        "\n",
        "ANS: Naive Bayes classifiers are a collection of classification algorithms based on Bayes' Theorem. It is not a single algorithm but a family of algorithms where all of them share a common principle, i.e. every pair of features being classified is independent of each other.\n",
        "\n",
        "Q5: What is optimal Bayes classifier?\n",
        "\n",
        "ANS: Bayes Optimal Classifier is a probabilistic model that finds the most probable prediction using the training data and space of hypotheses to make a prediction for a new data instance.\n",
        "\n",
        "Q6: Write any two features of Bayesian learning methods.\n",
        "\n",
        "ANS: a probability distribution over observed data for each possible hypothesis. New instances can be classified by combining the predictions of multiple hypotheses, weighted by their probabilities.\n",
        "\n",
        "A learning technique that determines model parameters (such as the network weights) by maximizing the posterior probability of the parameters given the training data.\n",
        "\n",
        "Q7: Define the concept of consistent learners.\n",
        "\n",
        "ANS: A learner L using a hypothesis H and training data D is said to be a consistent learner if it always outputs a hypothesis with zero error on D whenever H contains such a hypothesis. • By definition, a consistent learner must produce a hypothesis in the version space for H given D.\n",
        "\n",
        "Q8: Write any two strengths of Bayes classifier.\n",
        "\n",
        "ANS: It is simple and easy to implement.\n",
        "\n",
        "It doesn't require as much training data.\n",
        "\n",
        "It handles both continuous and discrete data.\n",
        "\n",
        "It is highly scalable with the number of predictors and data points.\n",
        "\n",
        "It is fast and can be used to make real-time predictions.\n",
        "\n",
        "Q9: Write any two weaknesses of Bayes classifier.\n",
        "\n",
        "ANS: Conditional Independence Assumption does not always hold. \n",
        "\n",
        "Zero probability problem : When we encounter words in the test data for a particular class that are not present in the training data, we might end up with zero class probabilities.\n",
        "\n",
        "Q10: Explain how Naïve Bayes classifier is used for\n",
        "\n",
        "1. Text classification\n",
        "\n",
        "2. Spam filtering\n",
        "\n",
        "\n",
        "ANS: 1. To be able to cope with this task, it is critical to choose the corresponding technique. Serving this purpose, Naive Bayes Classifier approaches can be performed by considering the structure types of the algorithms.\n",
        "\n",
        "The general formula of the Bayes Theorem can be simply highlighted as the following.\n",
        "\n",
        "P (X|Y) = ( P(Y|X) * P(X) ) / P(Y)\n",
        "By observing the formulation, X and Y can be accepted as events with the assumption that X is appearing while Y has already happened. With the help of this methodology, the inference of single occupancy of an event does not influence the other one can be raised which is also named as naive approach.\n",
        "\n",
        "\n",
        "2. ![image.png](data:image/png;base64,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)\n",
        "\n",
        "\n",
        "N_vocabulary — the number of unique words in the whole dataset.\n",
        "N_spam — the total number of words in the spam messages.\n",
        "N_wi_spam — the number of a word repeats in all spam messages.\n",
        "Alpha — the coefficient for the cases when a word in the message is absent in our dataset.\n",
        "Shortly: the probability of a word to belong to the spam message is a frequency of this word in the “spam part” of our dataset.\n",
        "\n",
        "Also, the same formula (but with other values) is correct for the probability of a word to belong to non-spam messages.\n",
        "\n",
        "\n"
      ],
      "metadata": {
        "id": "hyGs48JgaefN"
      }
    },
    {
      "cell_type": "code",
      "execution_count": null,
      "metadata": {
        "id": "ETvU2-reaXG7"
      },
      "outputs": [],
      "source": []
    }
  ]
}