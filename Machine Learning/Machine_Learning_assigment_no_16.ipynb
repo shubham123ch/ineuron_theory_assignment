{
  "nbformat": 4,
  "nbformat_minor": 0,
  "metadata": {
    "colab": {
      "provenance": []
    },
    "kernelspec": {
      "name": "python3",
      "display_name": "Python 3"
    },
    "language_info": {
      "name": "python"
    }
  },
  "cells": [
    {
      "cell_type": "code",
      "execution_count": null,
      "metadata": {
        "id": "HdtrSfxYLayb"
      },
      "outputs": [],
      "source": []
    },
    {
      "cell_type": "markdown",
      "source": [
        "# Shubham Kumar Chaturvedi(Machine_Learning assigment no: 16)"
      ],
      "metadata": {
        "id": "quZfxeCRLoiR"
      }
    },
    {
      "cell_type": "markdown",
      "source": [
        "Q1: In a linear equation, what is the difference between a dependent variable and an independent\n",
        "variable?\n",
        "\n",
        "ANS: A linear equation in two variables can be described as a linear relationship between x and y, that is, two variables in which the value of one of them (usually y) depends on the value of the other one (usually x). In this case, x is the independent variable, and y depends on it, so y is called the dependent variable\n",
        "\n",
        "Q2: What is the concept of simple linear regression? Give a specific example.\n",
        "\n",
        "ANS: Simple linear regression is used to estimate the relationship between two quantitative variables. You can use simple linear regression when you want to know: How strong the relationship is between two variables (e.g., the relationship between rainfall and soil erosion).\n",
        "\n",
        "Q3: In a linear regression, define the slope.\n",
        "\n",
        "ANS: slope = m = rise/run = dy/dx = y/ x = Parallel lines have equal slopes. In summary, if y = mx + b, then m is the slope and b is the y-intercept (i.e., the value of y when x = 0). Often linear equations are written in standard form with integer coefficients (Ax + By = C).\n",
        " \n",
        "Q4: In linear regression, what are the conditions for a positive slope?\n",
        "\n",
        "ANS: In summary, if the slope is positive, y increases as x increases, and the function runs \"uphill\" (going left to right). If the slope is negative, y decreases as x increases and the function runs downhill. If the slope is zero, y does not change, thus is constant—a horizontal line.\n",
        "\n",
        "Q5: In linear regression, what are the conditions for a negative slope?\n",
        "\n",
        "ANS: If the slope is negative, y decreases as x increases and the function runs downhill. If the slope is zero, y does not change, thus is constant—a horizontal line. Vertical lines are problematic in that there is no change in x.\n",
        "\n",
        "Q6: What is multiple linear regression and how does it work?\n",
        "\n",
        "ANS: Multiple linear regression (MLR), also known simply as multiple regression, is a statistical technique that uses several explanatory variables to predict the outcome of a response variable. Multiple regression is an extension of linear (OLS) regression that uses just one explanatory variable.\n",
        "\n",
        "\n",
        "Q7: In multiple linear regression, define the number of squares due to error.\n",
        "\n",
        "ANS: An error term represents the margin of error within a statistical model; it refers to the sum of the deviations within the regression line, which provides an explanation for the difference between the theoretical value of the model and the actual observed results.\n",
        "\n",
        "Q8: In multiple linear regression, define the number of squares due to regression.\n",
        "\n",
        "ANS: Regression sum of squares (also known as the sum of squares due to regression or explained sum of squares) The regression sum of squares describes how well a regression model represents the modeled data. A higher regression sum of squares indicates that the model does not fit the data well.\n",
        "\n",
        "Q9: In a regression equation, what is multicollinearity?\n",
        "\n",
        "ANS: Multicollinearity exists whenever an independent variable is highly correlated with one or more of the other independent variables in a multiple regression equation. Multicollinearity is a problem because it will make the statistical inferences less reliable.\n",
        "\n",
        "Q10: What is heteroskedasticity, and what does it mean?\n",
        "\n",
        "ANS: Heteroskedastic refers to a condition in which the variance of the residual term, or error term, in a regression model varies widely.\n",
        "\n",
        "Q11: Describe the concept of ridge regression.\n",
        "\n",
        "ANS: Ridge regression is a model tuning method that is used to analyse any data that suffers from multicollinearity. This method performs L2 regularization. When the issue of multicollinearity occurs, least-squares are unbiased, and variances are large, this results in predicted values being far away from the actual values.\n",
        "\n",
        "Q12: Describe the concept of lasso regression.\n",
        "\n",
        "ANS: In statistics and machine learning, lasso (least absolute shrinkage and selection operator; also Lasso or LASSO) is a regression analysis method that performs both variable selection and regularization in order to enhance the prediction accuracy and interpretability of the resulting statistical model.\n",
        "\n",
        "Q13: What is polynomial regression and how does it work?\n",
        "\n",
        "ANS: In statistics, polynomial regression is a form of regression analysis in which the relationship between the independent variable x and the dependent variable y is modelled as an nth degree polynomial in x.\n",
        "\n",
        "Q14: Describe the basis function.\n",
        "\n",
        "ANS: In mathematics, a basis function is an element of a particular basis for a function space. Every function in the function space can be represented as a linear combination of basis functions, just as every vector in a vector space can be represented as a linear combination of basis vectors.\n",
        "\n",
        "Q15: Describe how logistic regression works.\n",
        "\n",
        "ANS: Logistic regression is an example of supervised learning. It is used to calculate or predict the probability of a binary (yes/no) event occurring. An example of logistic regression could be applying machine learning to determine if a person is likely to be infected with COVID-19 or not."
      ],
      "metadata": {
        "id": "W8ZpQCL8MMRV"
      }
    }
  ]
}