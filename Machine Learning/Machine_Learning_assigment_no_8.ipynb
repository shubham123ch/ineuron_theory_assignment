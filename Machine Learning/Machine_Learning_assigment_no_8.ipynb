{
  "nbformat": 4,
  "nbformat_minor": 0,
  "metadata": {
    "colab": {
      "provenance": []
    },
    "kernelspec": {
      "name": "python3",
      "display_name": "Python 3"
    },
    "language_info": {
      "name": "python"
    }
  },
  "cells": [
    {
      "cell_type": "code",
      "execution_count": null,
      "metadata": {
        "id": "MM_vKd9FeE4U"
      },
      "outputs": [],
      "source": []
    },
    {
      "cell_type": "markdown",
      "source": [
        "# Shubham Kumar Chaturvedi(Machine_Learning assigment no: 8)"
      ],
      "metadata": {
        "id": "q1S9R4FSeFmT"
      }
    },
    {
      "cell_type": "markdown",
      "source": [
        "Q1: What exactly is a feature? Give an example to illustrate your point.\n",
        "\n",
        "ANS: What is a feature explain with an example in ML?\n",
        "In machine learning and pattern recognition, a feature is an individual measurable property or characteristic of a phenomenon. Choosing informative, discriminating and independent features is a crucial element of effective algorithms in pattern recognition, classification and regression.\n",
        "\n",
        "Q2: What are the various circumstances in which feature construction is required?\n",
        "\n",
        "ANS: most researchers have state that the cost (budget), time, quality and management as the main of Critical Success Factors (CSFs) in project success.\n",
        "\n",
        "Q3: Describe how nominal variables are encoded.\n",
        "\n",
        "ANS: When we have a feature where variables are just names and there is no order or rank to this variable's feature.For example: City of person lives in, Gender of person, Marital Status, etc.\n",
        "\n",
        "Q4: Describe how numeric features are converted to categorical features.\n",
        "\n",
        "ANS: Discretization: It is the process of transforming continuous variables into categorical variables by creating a set of intervals, which are contiguous, that span over the range of the variable's values. It is also known as “Binning”, where the bin is an analogous name for an interval.\n",
        "\n",
        "Q5: Describe the feature selection wrapper approach. State the advantages and disadvantages of this\n",
        "approach?\n",
        "\n",
        "ANS:In wrapper methods, the feature selection process is based on a specific machine learning algorithm that we are trying to fit on a given dataset. It follows a greedy search approach by evaluating all the possible combinations of features against the evaluation criterion.\n",
        "\n",
        "Q6: When is a feature considered irrelevant? What can be said to quantify it?\n",
        "\n",
        "ANS: One general definition for relevance is that a feature can be regarded as irrelevant if it is conditionally independent of the class labels or it does not influence the class labels; in these cases, it can be discarded.\n",
        "\n",
        "Q7: When is a function considered redundant? What criteria are used to identify features that could\n",
        "be redundant?\n",
        "\n",
        "ANS: if two features {X1, X2} are highly correlated, then the two features become redundant features since they have same information in terms of correlation measure. In other words, the correlation measure provides statistical association between any given a pair of features.\n",
        "\n",
        "Q8: What are the various distance measurements used to determine feature similarity?\n",
        "\n",
        "ANS:  Euclidean Distance:\n",
        "The most common distance function used for numeric attributes or features is the Euclidean distance which is defined in the following formula: Euclidean distance between two points in n-dimensional space.\n",
        "\n",
        "Manhattan Distance,Jaccard Index,Minkowski distance,Cosine Index.\n",
        "\n",
        "Q9: State difference between Euclidean and Manhattan distances?\n",
        "\n",
        "ANS: Euclidean distance is the shortest path between source and destination which is a straight line but Manhattan distance is sum of all the real distances between source(s) and destination(d) and each distance are always the straight lines.\n",
        "\n",
        "Q10: Distinguish between feature transformation and feature selection.\n",
        "\n",
        "ANS: feature transformation: transformation of data to improve the accuracy of the algorithm; feature selection: removing unnecessary features.\n",
        "\n",
        "Q11: Make brief notes on any two of the following:\n",
        "\n",
        "1. SVD (Standard Variable Diameter Diameter)\n",
        "\n",
        "2. Collection of features using a hybrid approach\n",
        "\n",
        "3. The width of the silhouette\n",
        "\n",
        "4. Receiver operating characteristic curve.\n",
        "\n",
        "ANS: 1.SVD, or Singular Value Decomposition, is one of several techniques that can be used to reduce the dimensionality, i.e., the number of columns, of a data set. Why would we want to reduce the number of dimensions? In predictive analytics, more columns normally means more time required to build models and score data.\n",
        "\n",
        "2.A hybrid feature selection method is proposed for classification in small sample size data sets. • The filter step is based on instance learning taking advantage of the small sample size of data. • A few candidate feature subsets are generated since their number corresponds to the number of instances.\n",
        "\n",
        "3.Silhouette width is a widely used index for assessing the fit of individual objects in the classification, as well as the quality of clusters and the entire classification.\n",
        "\n",
        "4.An ROC curve (receiver operating characteristic curve) is a graph showing the performance of a classification model at all classification thresholds. This curve plots two parameters: True Positive Rate. False Positive Rate.\n",
        "\n",
        "\n",
        "\n",
        "\n",
        "\n",
        "\n",
        "\n",
        "\n",
        "\n",
        "\n",
        "\n",
        "\n",
        "\n",
        "\n",
        "\n",
        "\n",
        "\n",
        "\n",
        "\n",
        "\n",
        "\n",
        "\n",
        "\n",
        "\n",
        "\n",
        "\n",
        "\n",
        "\n"
      ],
      "metadata": {
        "id": "QK84eNpzeHos"
      }
    }
  ]
}