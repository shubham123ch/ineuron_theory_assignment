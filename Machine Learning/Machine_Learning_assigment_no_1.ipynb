{
  "nbformat": 4,
  "nbformat_minor": 0,
  "metadata": {
    "colab": {
      "provenance": []
    },
    "kernelspec": {
      "name": "python3",
      "display_name": "Python 3"
    },
    "language_info": {
      "name": "python"
    }
  },
  "cells": [
    {
      "cell_type": "markdown",
      "source": [
        "# Shubham Kumar Chaturvedi(Machine_Learning assigment no: 1)"
      ],
      "metadata": {
        "id": "lAj4OKp_F4cf"
      }
    },
    {
      "cell_type": "markdown",
      "source": [
        "Q1: What does one mean by the term &quot;machine learning&quot;?\n",
        "\n",
        "ANS: Machine learning is a branch of artificial intelligence (AI) and computer science which focuses on the use of data and algorithms to imitate the way that humans learn, gradually improving its accuracy.\n",
        "\n",
        "\n",
        "Q2: 2.Can you think of 4 distinct types of issues where it shines?\n",
        "\n",
        "ANS:Machine learning algorithms have had good results on problems such has spam detection in email, cancer diagnosis, fraudulent credit card transactions, and automatically driving vehicles.\n",
        "\n",
        "\n",
        "Q3:3.What is a labeled training set, and how does it work?\n",
        "\n",
        "ANS: Data labeling (or data annotation) is the process of adding target attributes to training data and labeling them so that a machine learning model can learn what predictions it is expected to make. This process is one of the stages in preparing data for supervised machine learning.\n",
        "\n",
        "\n",
        "Q4:4.What are the two most important tasks that are supervised?\n",
        "\n",
        "ANS:The two most common supervised tasks are regression and classification.\n",
        "\n",
        "Q5: 5.Can you think of four examples of unsupervised tasks?\n",
        "\n",
        "ANS: Common unsupervised tasks include clustering, visualization, dimensionality reduction, and association rule learning.\n",
        "\n",
        "Q6: 6.State the machine learning model that would be best to make a robot walk through various\n",
        "unfamiliar terrains?\n",
        "\n",
        "ANS: The best Machine Learning algorithm to allow a robot to walk in unknown terrain is Reinforced Learning, where the robot can learn from response of the terrain to optimize itself.\n",
        "\n",
        "Q7: 7.Which algorithm will you use to divide your customers into different groups?\n",
        "\n",
        "ANS:We will use the k-means clustering algorithm to derive the optimum number of clusters and understand the underlying customer segments based on the data provided.\n",
        "\n",
        "Q8: Will you consider the problem of spam detection to be a supervised or unsupervised learning\n",
        "problem?\n",
        "\n",
        "ANS: Spam detection is a supervised machine learning problem.\n",
        "\n",
        "Q9: 9.What is the concept of an online learning system?\n",
        "\n",
        "ANS: A learning system based on formalised teaching but with the help of electronic resources is known as E-learning.\n",
        "\n",
        "Q10: What is out-of-core learning, and how does it differ from core learning?\n",
        "\n",
        "ANS: “It is a way to train your model on data that cannot fit your core memory.” Out-of-core learning refers to the machine learning algorithms working with data that cannot fit into a single machine's memory but can easily fit into some data storage, such as a local hard disk or web repository.\n",
        "\n",
        "\n",
        "Q11: What kind of learning algorithm makes predictions using a similarity measure?\n",
        "\n",
        "ANS: Learning algorithm that relies on a similarity measure to make predictions is instance-based algorithm.\n",
        "\n",
        "Q12: What&#39;s the difference between a model parameter and a hyperparameter in a learning\n",
        "algorithm?\n",
        "\n",
        "ANS: Model Parameters: These are the parameters in the model that must be determined using the training data set. These are the fitted parameters. Hyperparameters: These are adjustable parameters that must be tuned in order to obtain a model with optimal performance.\n",
        "\n",
        "Q13: 13.What are the criteria that model-based learning algorithms look for? What is the most popular\n",
        "method they use to achieve success? What method do they use to make predictions?\n",
        "\n",
        "ANS: Model based learning algorithm search for the optimal value of parameters in a model that will give the best results for the new instances. We often use a cost function or similar to determine what the parameter value has to be in order to minimize the function.\n",
        "\n",
        "Q14: 14.Can you name four of the most important Machine Learning challenges?\n",
        "\n",
        "ANS: Four main challenges in Machine Learning include overfitting the data (using a model too complicated), underfitting the data (using a simple model), lacking in data and nonrepresentative data.\n",
        "\n",
        "Q15: 15.What happens if the model performs well on the training data but fails to generalize the results\n",
        "to new situations? Can you think of three different options?\n",
        "\n",
        "ANS:  A statistical model or a machine learning algorithm is said to have underfitting when it cannot capture the underlying trend of the data, i.e., it only performs well on training data but performs poorly on testing data."
      ],
      "metadata": {
        "id": "7RDNJljpGmOA"
      }
    },
    {
      "cell_type": "code",
      "execution_count": null,
      "metadata": {
        "id": "kmZOsnjfF3Se"
      },
      "outputs": [],
      "source": []
    }
  ]
}