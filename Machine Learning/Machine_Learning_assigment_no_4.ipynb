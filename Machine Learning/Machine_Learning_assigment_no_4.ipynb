{
  "nbformat": 4,
  "nbformat_minor": 0,
  "metadata": {
    "colab": {
      "provenance": []
    },
    "kernelspec": {
      "name": "python3",
      "display_name": "Python 3"
    },
    "language_info": {
      "name": "python"
    }
  },
  "cells": [
    {
      "cell_type": "code",
      "execution_count": null,
      "metadata": {
        "id": "YYA93QUucYch"
      },
      "outputs": [],
      "source": []
    },
    {
      "cell_type": "markdown",
      "source": [
        "# Shubham Kumar Chaturvedi(Machine_Learning assigment no: 4)"
      ],
      "metadata": {
        "id": "mJT0DO8ycf0p"
      }
    },
    {
      "cell_type": "markdown",
      "source": [
        "Q1: What are the key tasks involved in getting ready to work with machine learning modeling?\n",
        "\n",
        "ANS: Collecting Data:  machines initially learn from the data that we give them.\n",
        "\n",
        "Preparing the Data: After you have your data,\n",
        "you have to prepare it.\n",
        "\n",
        "Choosing a Model: \n",
        "\n",
        "Training the Model: \n",
        "\n",
        "Evaluating the Model: \n",
        "\n",
        "Parameter Tuning: \n",
        "\n",
        "Making Predictions.\n",
        "\n",
        "\n",
        "Q2: What are the different forms of data used in machine learning? Give a specific example for each of\n",
        "them.\n",
        "\n",
        "ANS:  These include numerical data, categorical data, time series data, and text data.Nominal data.\n",
        "Ordinal data.\n",
        "Discrete data.\n",
        "Continuous data.\n",
        "\n",
        "\n",
        "Q3: Distinguish:\n",
        "\n",
        "1. Numeric vs. categorical attributes\n",
        "\n",
        "2. Feature selection vs. dimensionality reduction.\n",
        "\n",
        "ANS: A categorical variable is a variable with a set number of groups (gender, colors of the rainbow, brands of cereal), while a numeric variable is generally something that can be measured (height, weight, miles per hour).\n",
        "\n",
        "\n",
        "While both methods are used for reducing the number of features in a dataset, there is an important difference. Feature selection is simply selecting and excluding given features without changing them. Dimensionality reduction transforms features into a lower dimension.\n",
        "\n",
        "Q4: Make quick notes on any two of the following:\n",
        "\n",
        "1. The histogram\n",
        "\n",
        "2. Use a scatter plot\n",
        "\n",
        "3.PCA \n",
        "\n",
        "ANS: 1. In statistics, a histogram is a graphical representation of the distribution of data. The histogram is represented by a set of rectangles, adjacent to each other, where each bar represent a kind of data.\n",
        "\n",
        "2.Scatter plots are used to plot data points on a horizontal and a vertical axis in the attempt to show how much one variable is affected by another. Each row in the data table is represented by a marker whose position depends on its values in the columns set on the X and Y axes.\n",
        "\n",
        "3. What Is Principal Component Analysis? Principal component analysis, or PCA, is a dimensionality-reduction method that is often used to reduce the dimensionality of large data sets, by transforming a large set of variables into a smaller one that still contains most of the information in the large set.\n",
        "\n",
        "Q5: Why is it necessary to investigate data? Is there a discrepancy in how qualitative and quantitative\n",
        "data are explored?\n",
        "\n",
        "ANS: The combination of qualitative and quantitative data can also lead to clashes in the philosophical assumptions behind each approach and therefore recommendations have been made for triangulation to be carried out from a pragmatic, or subtle realist, approach.\n",
        "\n",
        "\n",
        "Q6: What are the various histogram shapes? What exactly are ‘bins&#39;?\n",
        "\n",
        "ANS: A histogram displays numerical data by grouping data into \"bins\" of equal width. Each bin is plotted as a bar whose height corresponds to how many data points are in that bin. Bins are also sometimes called \"intervals\", \"classes\", or \"buckets\".\n",
        "\n",
        "Q7: How do we deal with data outliers?\n",
        "ANS: There are different approaches such as replacing the outlier with the mean value, or median value or in some cases dropping the observation with the suspected outlier so as to avoid any bias in them. We tend to delete the outlier if they are due to data entry errors caused due to human error, data processing errors.\n",
        "\n",
        "Q8: What are the various central inclination measures? Why does mean vary too much from median in\n",
        "certain data sets?\n",
        "\n",
        "ANS: There are three main measures of central tendency: the mode, the median and the mean. Each of these measures describes a different indication of the typical or central value in the distribution.Since all values are used to calculate the mean, it can be affected by extreme outliers. An outlier is a value that differs significantly from the others in a dataset.\n",
        "\n",
        "Q9: Describe how a scatter plot can be used to investigate bivariate relationships. Is it possible to find\n",
        "outliers using a scatter plot?\n",
        "\n",
        "ANS: A scatter plot is the graphic representation of the relationship between the two variables coming from a bivariate data set. Think of them as the graphic representation of two data sets which have been put into place by dedicating each axis in the plot to a different variable.\n",
        "\n",
        "Q10:  Describe how cross-tabs can be used to figure out how two variables are related.\n",
        "\n",
        "ANS: By showing how correlations change from one group of variables to another, cross tabulation allows for the identification of patterns, trends, and probabilities within data sets. When it comes to analyzing survey response data, cross tabulation reports depict the relationship between two or more survey questions.\n"
      ],
      "metadata": {
        "id": "uTWL8XIPcchx"
      }
    }
  ]
}