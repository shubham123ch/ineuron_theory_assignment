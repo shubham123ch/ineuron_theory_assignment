{
  "nbformat": 4,
  "nbformat_minor": 0,
  "metadata": {
    "colab": {
      "provenance": []
    },
    "kernelspec": {
      "name": "python3",
      "display_name": "Python 3"
    },
    "language_info": {
      "name": "python"
    }
  },
  "cells": [
    {
      "cell_type": "markdown",
      "source": [
        "# Shubham Kumar Chaturvedi(Machine_Learning assigment no: 3)"
      ],
      "metadata": {
        "id": "9WtPGYskRGpK"
      }
    },
    {
      "cell_type": "markdown",
      "source": [
        "Q1: Explain the term machine learning, and how does it work? Explain two machine learning\n",
        "applications in the business world. What are some of the ethical concerns that machine learning\n",
        "applications could raise?\n",
        "\n",
        "ANS: Machine learning (ML) is a type of artificial intelligence (AI) that allows software applications to become more accurate at predicting outcomes without being explicitly programmed to do so. Machine learning algorithms use historical data as input to predict new output values.\n",
        "\n",
        "Q2: Describe the process of human learning:\n",
        "i. Under the supervision of experts\n",
        "\n",
        "ii. With the assistance of experts in an indirect manner\n",
        "\n",
        "iii. Self-education\n",
        "\n",
        "ANS: Supervised learning uses a training set to teach models to yield the desired output. This training dataset includes inputs and correct outputs, which allow the model to learn over time. The algorithm measures its accuracy through the loss function, adjusting until the error has been sufficiently minimized.\n",
        "\n",
        "Q4: Examine the various forms of machine learning.\n",
        "\n",
        "ANS: The three machine learning types are supervised, unsupervised, and reinforcement learning.\n",
        "\n",
        "Q5: Can you explain what a well-posed learning problem is? Explain the main characteristics that must\n",
        "be present to identify a learning problem properly.\n",
        "\n",
        "ANS: A (machine learning) problem is well-posed if a solution to it exists, if that solution is unique, and if that solution depends on the data / experience but it is not sensitive to (reasonably small) changes in the data / experience.\n",
        "\n",
        "Q6:Is machine learning capable of solving all problems? Give a detailed explanation of your answer.\n",
        "\n",
        "ANS: The objective of machine learning is to adapt to new data independently and make decisions and suggestions based on thousands of calculations and analyses. As it is a sub-part of artificial intelligence, the process is accomplished by infusing deep learning applications and AI machines from their fed data.\n",
        "\n",
        "\n",
        "Q7: Can you explain the various forms of supervised learning? Explain each one with an example\n",
        "application.\n",
        "\n",
        "\n",
        "ANS: 1. Regression\n",
        "Regression : is used to understand the relationship between dependable and independent variables.\n",
        " if there is one independent and one dependent variable, it is known as simple linear regression. Meanwhile, if there are two or more independent and dependent variables, it is called multiple linear regression.\n",
        "\n",
        " 2.Logistic regression \n",
        "Logistic regression is used when the dependent variable is categorical or has binary outputs like ‘yes’ or ‘no’. Moreover, logistic regression is used to solve binary classification problems; that’s why it predicts discreet values for variables.\n",
        "\n",
        "3.Naive Bayes\n",
        "A Naive Bayes algorithm is used for large datasets. The approach works on the fundamental that every programme in the algorithm works independently. This means that the presence of one feature will not impact the other. Generally, it is used in text classification, recommendation systems, and others.\n",
        "\n",
        "4. Classification\n",
        "It is a type of supervised learning algorithm that accurately assigns data into different categories or classes. It recognizes specific entities and analyses them to conclude where those entities must be categorized. Some of the classification algorithms are as follows:\n",
        "\n",
        "K-nearest neighbor,\n",
        "Random forest,\n",
        "Support vector machines,\n",
        "Decision tree,\n",
        "Linear classifiers.\n",
        "\n",
        "5.Random forest\n",
        "A random forest algorithm is often called an ensemble method because it combines different supervised learning methods to conclude. Moreover, it uses many decision trees to output the classification of individual trees. As a result, it is widely used across industries.\n",
        "\n",
        "\n",
        "Q8: What is the difference between supervised and unsupervised learning? With a sample application\n",
        "in each region, explain the differences.\n",
        "\n",
        "ANS: To put it simply, supervised learning uses labeled input and output data, while an unsupervised learning algorithm does not. In supervised learning, the algorithm “learns” from the training dataset by iteratively making predictions on the data and adjusting for the correct answer.\n",
        "\n",
        "Q9: Make a comparison between:-\n",
        "\n",
        "1. Generalization and abstraction\n",
        "\n",
        "2. Learning that is guided and unsupervised\n",
        "\n",
        "3. Regression and classification\n",
        "\n",
        "ANS: The most significant difference between regression vs classification is that while regression helps predict a continuous quantity, classification predicts discrete class labels. There are also some overlaps between the two types of machine learning algorithms.\n",
        "\n",
        "Unsupervised learning uses machine learning algorithms to analyze and cluster unlabeled data sets.\n",
        "\n",
        "Abstraction aims at simplifying the description of an entity while generalization looks for common properties among these abstractions. Generalizations are clearly important and prevalent in many disciplines of study.\n",
        "\n"
      ],
      "metadata": {
        "id": "rTwzWjANROGj"
      }
    },
    {
      "cell_type": "code",
      "execution_count": null,
      "metadata": {
        "id": "6ST5GvI8RFBg"
      },
      "outputs": [],
      "source": []
    }
  ]
}