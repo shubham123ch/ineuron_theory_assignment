{
  "nbformat": 4,
  "nbformat_minor": 0,
  "metadata": {
    "colab": {
      "provenance": []
    },
    "kernelspec": {
      "name": "python3",
      "display_name": "Python 3"
    },
    "language_info": {
      "name": "python"
    }
  },
  "cells": [
    {
      "cell_type": "markdown",
      "source": [
        "# Shubham Kumar Chaturvedi(Machine_Learning assigment no: 6)"
      ],
      "metadata": {
        "id": "IgsFG2R14qV5"
      }
    },
    {
      "cell_type": "markdown",
      "source": [
        "Q1: In the sense of machine learning, what is a model? What is the best way to train a model?\n",
        "\n",
        "\n",
        "ANS: A machine learning model is a file that has been trained to recognize certain types of patterns. we train a model over a set of data, providing it an algorithm that it can use to reason over and learn from those data.\n",
        "\n",
        "Q2: In the sense of machine learning, explain the &quot;No Free Lunch&quot; theorem.\n",
        "\n",
        "ANS: The “no free lunch” (NFL) theorem for supervised machine learning is a theorem that essentially implies that no single machine learning algorithm is universally the best-performing algorithm for all problems.\n",
        "\n",
        "Q3: Describe the K-fold cross-validation mechanism in detail.\n",
        "\n",
        "ANS:K-fold Cross-Validation is when the dataset is split into a K number of folds and is used to evaluate the model's ability when given new data. K refers to the number of groups the data sample is split into. For example, if you see that the k-value is 5, we can call this a 5-fold cross-validation.\n",
        "\n",
        "Q4: Describe the bootstrap sampling method. What is the aim of it?\n",
        "\n",
        "ANS: The bootstrap method is a statistical technique for estimating quantities about a population by averaging estimates from multiple small data samples. Importantly, samples are constructed by drawing observations from a large data sample one at a time and returning them to the data sample after they have been chosen.\n",
        "\n",
        "Q5: What is the significance of calculating the Kappa value for a classification model? Demonstrate\n",
        "how to measure the Kappa value of a classification model using a sample collection of results.\n",
        "\n",
        "ANS:The kappa score measures the degree of agreement between the two evaluators, also known as inter-rater reliability .\n",
        "\n",
        "Q6: Describe the model ensemble method. In machine learning, what part does it play?\n",
        "\n",
        "ANS: Ensemble modeling is a process where multiple diverse models are created to predict an outcome, either by using many different modeling algorithms or using different training data sets. The ensemble model then aggregates the prediction of each base model and results in once final prediction for the unseen data.\n",
        "\n",
        "Q7: What is a descriptive model&#39;s main purpose? Give examples of real-world problems that\n",
        "descriptive models were used to solve.\n",
        "\n",
        "ANS: A descriptive model describes a system or other entity and its relationship to its environment. It is generally used to help specify and/or understand what the system is, what it does, and how it does it. A geometric model or spatial model is a descriptive model that represents geometric and/or spatial relationships.\n",
        "\n",
        "Q8: Describe how to evaluate a linear regression model.\n",
        "\n",
        "ANS: There are 3 main metrics for model evaluation in regression:\n",
        "R Square/Adjusted R Square.\n",
        "Mean Square Error(MSE)/Root Mean Square Error(RMSE)\n",
        "Mean Absolute Error(MAE)\n",
        "\n",
        "Mathematically, the RMSE is the square root of the mean squared error (MSE), which is the average squared difference between the observed actual outome values and the values predicted by the model. So, MSE = mean((observeds - predicteds)^2) and RMSE = sqrt(MSE ). The lower the RMSE, the better the model.\n",
        "\n",
        "Q9: Distinguish :\n",
        "\n",
        "1. Descriptive vs. predictive models\n",
        "\n",
        "2. Underfitting vs. overfitting the model\n",
        "\n",
        "3. Bootstrapping vs. cross-validation\n",
        "\n",
        "\n",
        "ANS: 1. Descriptive vs. predictive models: While descriptive analytics are used by companies to understand what has happened, predictive analytics are used by companies to determine what is likely to happen next.\n",
        "\n",
        "2.Underfitting vs. overfitting the model:A model that is underfit will have high training and high testing error while an overfit model will have extremely low training error but a high testing error.\n",
        "\n",
        "3.Bootstrapping vs. cross-validation: Cross validation splits the available dataset to create multiple datasets, and Bootstrapping method uses the original dataset to create multiple datasets after resampling with replacement. Bootstrapping it is not as strong as Cross validation when it is used for model validation.\n",
        "\n",
        "\n",
        "Q10. Make quick notes on:\n",
        "\n",
        "1. LOOCV.\n",
        "\n",
        "2. F-measurement\n",
        "\n",
        "3. The width of the silhouette\n",
        "\n",
        "4. Receiver operating characteristic curve.\n",
        "\n",
        "ANS: 1. LOOCV: LOOCV(Leave One Out Cross-Validation) is a type of cross-validation approach in which each observation is considered as the validation set and the rest (N-1) observations are considered as the training set. In LOOCV, fitting of the model is done and predicting using one observation validation set.\n",
        "\n",
        "2.F-measurement:The F measure (F1 score or F score) is a measure of a test's accuracy and is defined as the weighted harmonic mean of the precision and recall of the test.\n",
        "\n",
        "3.The width of the silhouette:The silhouette value is a measure of how similar an object is to its own cluster (cohesion) compared to other clusters (separation). The value of the silhouette ranges between [1, -1], where a high value indicates that the object is well matched to its own cluster and poorly matched to neighboring clusters.\n",
        "\n",
        "4.An ROC curve (receiver operating characteristic curve) is a graph showing the performance of a classification model at all classification thresholds. This curve plots two parameters: True Positive Rate. False Positive Rate."
      ],
      "metadata": {
        "id": "qsnv0HZE9iiL"
      }
    },
    {
      "cell_type": "code",
      "execution_count": null,
      "metadata": {
        "id": "GmXB2o3l4pR1"
      },
      "outputs": [],
      "source": []
    }
  ]
}