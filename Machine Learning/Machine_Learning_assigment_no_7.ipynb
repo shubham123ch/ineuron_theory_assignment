{
  "nbformat": 4,
  "nbformat_minor": 0,
  "metadata": {
    "colab": {
      "provenance": []
    },
    "kernelspec": {
      "name": "python3",
      "display_name": "Python 3"
    },
    "language_info": {
      "name": "python"
    }
  },
  "cells": [
    {
      "cell_type": "markdown",
      "source": [
        "# Shubham Kumar Chaturvedi(Machine_Learning assigment no: 7)"
      ],
      "metadata": {
        "id": "UDr6Prt8O5Fo"
      }
    },
    {
      "cell_type": "markdown",
      "source": [
        "Q1: What is the definition of a target function? In the sense of a real-life example, express the target\n",
        "function. How is a target function&#39;s fitness assessed?\n",
        "\n",
        "ANS:A target function, in machine learning, is a method for solving a problem that an AI algorithm parses its training data to find. Once an algorithm finds its target function, that function can be used to predict results (predictive analysis).\n",
        "\n",
        "Q2: What are predictive models, and how do they work? What are descriptive types, and how do you\n",
        "use them? Examples of both types of models should be provided. Distinguish between these two\n",
        "forms of models.\n",
        "\n",
        "ANS: Predictive modeling is a commonly used statistical technique to predict future behavior. Predictive modeling solutions are a form of data-mining technology that works by analyzing historical and current data and generating a model to help predict future outcomes.\n",
        "\n",
        "Q3: Describe the method of assessing a classification model&#39;s efficiency in detail. Describe the various\n",
        "measurement parameters.\n",
        "\n",
        "ANS: Classifiers are commonly evaluated using either a numeric metric, such as accuracy, or a graphical representation of performance, such as a receiver operating characteristic (ROC) curve.\n",
        "\n",
        "Q4: i. In the sense of machine learning models, what is underfitting? What is the most common\n",
        "reason for underfitting?\n",
        "\n",
        "ii. What does it mean to overfit? When is it going to happen?\n",
        "\n",
        "iii. In the sense of model fitting, explain the bias-variance trade-off.\n",
        "\n",
        "ANS: i. In a nutshell, Underfitting refers to a model that can neither performs well on the training data nor generalize to new data. Reasons for Underfitting: High bias and low variance. The size of the training dataset used is not enough.\n",
        "\n",
        "ii.Overfitting occurs when the model cannot generalize and fits too closely to the training dataset instead. Overfitting happens due to several reasons, such as: • The training data size is too small and does not contain enough data samples to accurately represent all possible input data values.\n",
        "\n",
        "iii.In statistics and machine learning, the bias–variance tradeoff is the property of a model that the variance of the parameter estimated across samples can be reduced by increasing the bias in the estimated parameters.\n",
        "\n",
        "Q5: Is it possible to boost the efficiency of a learning model? If so, please clarify how.\n",
        "\n",
        "ANS: There are many ways to improve the accuracy of your machine learning models. By using methods like feature engineering, adjusting hyperparameters, and trying multiple algorithms, you give yourself a great change to create a really accurate model.\n",
        "\n",
        "Q6: How would you rate an unsupervised learning model&#39;s success? What are the most common\n",
        "success indicators for an unsupervised learning model?\n",
        "\n",
        "ANS: Twin sample validation can be used to validate results of unsupervised learning. It should be used in combination with internal validation. It can prove to be highly useful in case of time-series data where we want to ensure that our results remain same across time.\n",
        "\n",
        "Q7:Is it possible to use a classification model for numerical data or a regression model for categorical\n",
        "data with a classification model? Explain your answer.\n",
        "\n",
        "ANS: The key distinction between Classification vs Regression algorithms is Regression algorithms are used to determine continuous values such as price, income, age, etc. and Classification algorithms are used to forecast or classify the distinct values such as Real or False, Male or Female, Spam or Not Spam, etc\n",
        "\n",
        "Logistic regression predicts probabilities, and is therefore a regression algorithm. However, it is commonly described as a classification method in the machine learning literature, because it can be (and is often) used to make classifiers.\n",
        "\n",
        "Q8: Describe the predictive modeling method for numerical values. What distinguishes it from\n",
        "categorical predictive modeling?\n",
        "\n",
        "ANS: Regression analysis is a supervised machine learning process for estimating the relationships among different fields in your data, then making further predictions on numerical data based on these relationships.\n",
        "\n",
        "Predictive modeling is a commonly used statistical technique to predict future behavior. Predictive modeling solutions are a form of data-mining technology that works by analyzing historical and current data and generating a model to help predict future outcomes.\n",
        "\n",
        "Q9: 10. Make quick notes on:\n",
        "1. The process of holding out\n",
        "2. Cross-validation by tenfold\n",
        "3. Adjusting the parameters\n",
        "\n",
        "ANS: 1.The process of holding out:Holdout Method is the simplest sort of method to evaluate a classifier. In this method, the data set (a collection of data items or examples) is separated into two sets, called the Training set and Test set. A classifier performs function of assigning data items in a given collection to a target category or class.\n",
        "\n",
        "2.Cross-validation by tenfold:Cross-validation is usually used in machine learning for improving model prediction when we don't have enough data to apply other more efficient methods like the 3-way split (train, validation and test) or using a holdout dataset.\n",
        "\n",
        "3.Adjusting the parameters:Adjustment Method Parameters. To define an adjustment calculation method, you must specify one or more parameters, depending on the method.\n",
        "\n",
        "Q10: Define the following terms:\n",
        "1. Purity vs. Silhouette width.\n",
        "2. Boosting vs. Bagging.\n",
        "3. The eager learner vs. the lazy learner.\n",
        "\n",
        "ANS: 1. Purity vs. Silhouette width: The Average Silhouette Width (ASW) of a clustering is ̄ a ( i ) is the average distance of to points in the cluster to which it was assigned, and is the average distance of to the points in the nearest cluster to which it was not assigned.\n",
        "\n",
        "2.Boosting vs. Bagging: Bagging is a method of merging the same type of predictions. Boosting is a method of merging different types of predictions. Bagging decreases variance, not bias, and solves over-fitting issues in a model. Boosting decreases bias, not variance.\n",
        "\n",
        "Bagging gives equal weight to each model, whereas in Boosting technique, the new models are weighted based on their results. In boosting, new subsets of data used for training contain observations that the previous model misclassified. Bagging uses randomly generated training data subsets.\n",
        "\n",
        "3.The eager learner vs. the lazy learner: Eager learning methods construct general, explicit description of the target function based on the provided training examples. Lazy learning methods simply store the data and generalizing beyond these data is postponed until an explicit request is made.\n"
      ],
      "metadata": {
        "id": "XCnUX1RMPCyd"
      }
    },
    {
      "cell_type": "code",
      "execution_count": null,
      "metadata": {
        "id": "cWzK6nP9O36o"
      },
      "outputs": [],
      "source": []
    }
  ]
}