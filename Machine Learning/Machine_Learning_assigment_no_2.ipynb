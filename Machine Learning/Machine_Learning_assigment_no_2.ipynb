{
  "nbformat": 4,
  "nbformat_minor": 0,
  "metadata": {
    "colab": {
      "provenance": []
    },
    "kernelspec": {
      "name": "python3",
      "display_name": "Python 3"
    },
    "language_info": {
      "name": "python"
    }
  },
  "cells": [
    {
      "cell_type": "code",
      "execution_count": null,
      "metadata": {
        "id": "5jTP2cvCLddJ"
      },
      "outputs": [],
      "source": []
    },
    {
      "cell_type": "markdown",
      "source": [
        "# Shubham Kumar Chaturvedi(Machine_Learning assigment no: 2)"
      ],
      "metadata": {
        "id": "fGdcIkzGLeGM"
      }
    },
    {
      "cell_type": "markdown",
      "source": [
        "Q1: What is the concept of human learning? Please give two examples.\n",
        "\n",
        "ANS: Many examples of this case are found in case of human learning. Learning to drive a motor-car, typewriting, singing or memorizing a poem or a mathematical table, and music etc. \n",
        "\n",
        "\n",
        "Q2: What different forms of human learning are there? Are there any machine learning equivalents?\n",
        "\n",
        "ANS: There are three general types of machine learning: supervised, unsupervised, and reinforcement learning.\n",
        "\n",
        "Q3: 3. What is machine learning, and how does it work? What are the key responsibilities of machine\n",
        "learning?\n",
        "\n",
        "ANS: Machine Learning is an AI technique that teaches computers to learn from experience. Machine learning algorithms use computational methods to “learn” information directly from data without relying on a predetermined equation as a model.\n",
        "\n",
        "Q4: Define the terms &quot;penalty&quot; and &quot;reward&quot; in the context of reinforcement learning.\n",
        "\n",
        "ANS: Reinforcement learning is all about gamifying the learning process. This type of machine learning uses a reward-penalty method to teach an AI system. If it makes the right move, it gets rewarded. If it makes a mistake, it receives a penalty.\n",
        "\n",
        "Q5: Explain the term &quot;learning as a search&quot;?\n",
        "\n",
        "ANS: Concept learning can be viewed as the task of searching through a large space of hypotheses implicitly defined by the hypothesis representation. The goal of this search is to find the hypothesis that best fits the training examples.\n",
        "\n",
        "Q6: What are the various goals of machine learning? What is the relationship between these and\n",
        "human learning?\n",
        "\n",
        "ANS: The goal of machine learning, closely coupled with the goal of AI, is to achieve a thorough understanding about the nature of learning process (both human learning and other forms of learning), about the computational aspects of learning behaviors, and to implant the learning capability in computer systems.\n",
        "\n",
        "Q7: Illustrate the various elements of machine learning using a real-life illustration.\n",
        "\n",
        "ANS: Image recognition is a well-known and widespread example of machine learning in the real world. It can identify an object as a digital image, based on the intensity of the pixels in black and white images or colour images. Real-world examples of image recognition: Label an x-ray as cancerous or not.\n",
        "\n",
        "Q8: Provide an example of the abstraction method.\n",
        "ANS: In simple terms, abstraction “displays” only the relevant attributes of objects and “hides” the unnecessary details. For example, when we are driving a car, we are only concerned about driving the car like start/stop the car, accelerate/ break, etc.\n",
        "\n",
        "Q9: What is the concept of generalization? What function does it play in the machine learning\n",
        "process?\n",
        "\n",
        "ANS: Generalization refers to your model's ability to adapt properly to new, previously unseen data, drawn from the same distribution as the one used to create the model. Develop intuition about overfitting. Determine whether a model is good or not. Divide a data set into a training set and a test set.\n",
        "\n",
        "Q10: What is regression, and how does it work? Give an example of a real-world problem that was\n",
        "solved using regression.\n",
        "\n",
        "ANS: Formulating a regression analysis helps you predict the effects of the independent variable on the dependent one. Example: we can say that age and height can be described using a linear regression model. Since a person's height increases as age increases, they have a linear relationship.\n",
        "\n",
        "Q11: Describe the clustering mechanism in detail.\n",
        "\n",
        "ANS: Clustering is the task of dividing the population or data points into a number of groups such that data points in the same groups are more similar to other data points in the same group than those in other groups. In simple words, the aim is to segregate groups with similar traits and assign them into clusters.\n",
        "\n",
        "Q12: Make brief observations on two of the following topics:\n",
        "\n",
        "i. Machine learning algorithms are used\n",
        "ii. Studying under supervision\n",
        "iii. Studying without supervision\n",
        "\n",
        "iv. Reinforcement learning is a form of learning based on positive reinforcement.\n",
        "\n",
        "ANS: Supervised learning:\n",
        "----\n",
        " is effective for a variety of business purposes, including sales forecasting, inventory optimization, and fraud detection. Some examples of use cases include:\n",
        "\n",
        "Predicting real estate prices\n",
        "\n",
        "Classifying whether bank transactions are fraudulent or not\n",
        "\n",
        "Finding disease risk factors\n",
        "\n",
        "Determining whether loan applicants are low-risk or high-risk\n",
        "\n",
        "Predicting the failure of industrial equipment's mechanical parts.\n",
        "\n",
        "UNSUPERVISED\n",
        "----\n",
        " which identifies the rules existing between the clusters. A few example use cases include:\n",
        "\n",
        "Creating customer groups based on purchase behavior\n",
        "\n",
        "Grouping inventory according to sales and/or manufacturing metrics\n",
        "\n",
        "Pinpointing associations in customer data (for example, customers who buy a specific style of handbag might be interested in a specific style of shoe).\n",
        "\n",
        "REINIFORCEMENT: \n",
        "---\n",
        " Practical applications for this type of machine learning are still emerging. Some examples of uses include:\n",
        "\n",
        "Teaching cars to park themselves and drive autonomously\n",
        "\n",
        "Dynamically controlling traffic lights to reduce traffic jams\n",
        "\n",
        "Training robots to learn policies using raw video images as input that they can use to replicate the actions they see"
      ],
      "metadata": {
        "id": "fYuFwR9nMEXh"
      }
    }
  ]
}