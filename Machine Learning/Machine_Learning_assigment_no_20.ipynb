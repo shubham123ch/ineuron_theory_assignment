{
  "nbformat": 4,
  "nbformat_minor": 0,
  "metadata": {
    "colab": {
      "provenance": []
    },
    "kernelspec": {
      "name": "python3",
      "display_name": "Python 3"
    },
    "language_info": {
      "name": "python"
    }
  },
  "cells": [
    {
      "cell_type": "code",
      "execution_count": null,
      "metadata": {
        "id": "yKtzzS_kO7EA"
      },
      "outputs": [],
      "source": []
    },
    {
      "cell_type": "markdown",
      "source": [
        "# Shubham Kumar Chaturvedi(Machine_Learning assigment no: 20)"
      ],
      "metadata": {
        "id": "FWwQz9ZnO7pC"
      }
    },
    {
      "cell_type": "markdown",
      "source": [
        "Q1: What is the underlying concept of Support Vector Machines?\n",
        "\n",
        "ANS: SVM or Support Vector Machine is a linear model for classification and regression problems. It can solve linear and non-linear problems and work well for many practical problems. The idea of SVM is simple: The algorithm creates a line or a hyperplane which separates the data into classes.\n",
        "\n",
        "Q2: What is the concept of a support vector?\n",
        "\n",
        "ANS: Support vectors are data points that are closer to the hyperplane and influence the position and orientation of the hyperplane. Using these support vectors, we maximize the margin of the classifier. Deleting the support vectors will change the position of the hyperplane. These are the points that help us build our SVM.\n",
        "\n",
        "Q3: When using SVMs, why is it necessary to scale the inputs?\n",
        "\n",
        "ANS: Yes, SVMs are sensitive to feature scaling as it takes input data to find the margins around hyperplanes and gets biased for the variance in high values.\n",
        "\n",
        "Q4: When an SVM classifier classifies a case, can it output a confidence score? What about a\n",
        "percentage chance?\n",
        "\n",
        "ANS: An SVM classifier can give the distance between the test instance and the decision boundary as output, so we can use that as a confidence score, but we cannot use this score to directly converted it into class probabilities.\n",
        "\n",
        "Q5: Should you train a model on a training set with millions of instances and hundreds of features\n",
        "using the primal or dual form of the SVM problem?\n",
        "\n",
        "ANS: So if there are millions of instances, we should definitely use the primal form, because the dual form will be much too slow.\n",
        "\n",
        "Q6: Let&#39;s say you&#39;ve used an RBF kernel to train an SVM classifier, but it appears to underfit the\n",
        "training collection. Is it better to raise or lower (gamma)? What about the letter C?\n",
        "\n",
        "ANS: If we trained an SVM classifier using a Radial Basis Function (RBF) kernel, then it underfits the training set, so there might be too much regularization. To decrease it, you need to increase the gamma or C hyper-parameter.\n",
        "\n",
        "Q7: To solve the soft margin linear SVM classifier problem with an off-the-shelf QP solver, how should\n",
        "the QP parameters (H, f, A, and b) be set?\n",
        "\n",
        "ANS: To solve the soft margin linear SVM classifier problem with an off-the-shelf QP solver, how should\n",
        "the QP parameters (H, f, A, and b) be set?\n",
        "\n",
        "Q8: To solve the soft margin linear SVM classifier problem with an off-the-shelf QP solver, how should\n",
        "the QP parameters (H, f, A, and b) be set?\n",
        "\n",
        "ANS: We set the QP parameters for the hard margin problem as H, f, A, and b. The QP parameters for the soft margin problem will have m additional parameters and m additional constrains.\n",
        "\n",
        "Thus, H is equal to H plus m columns of 0s on the right and m rows of 0s at the bottom. f is euqal to f with m additional elements all equal to the value of hyperparameter C. A is equal to A with extra m*m identity matrix appended to the right. b is equal to b with m additional elements all equal to 0.\n"
      ],
      "metadata": {
        "id": "14jCjVfCO-oE"
      }
    }
  ]
}