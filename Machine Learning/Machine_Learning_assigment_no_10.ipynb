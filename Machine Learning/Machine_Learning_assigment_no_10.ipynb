{
  "nbformat": 4,
  "nbformat_minor": 0,
  "metadata": {
    "colab": {
      "provenance": []
    },
    "kernelspec": {
      "name": "python3",
      "display_name": "Python 3"
    },
    "language_info": {
      "name": "python"
    }
  },
  "cells": [
    {
      "cell_type": "code",
      "execution_count": null,
      "metadata": {
        "id": "uFdCRW2xGcJA"
      },
      "outputs": [],
      "source": []
    },
    {
      "cell_type": "markdown",
      "source": [
        "# Shubham Kumar Chaturvedi(Machine_Learning assigment no: 10)"
      ],
      "metadata": {
        "id": "cHdkV5xMGfuP"
      }
    },
    {
      "cell_type": "markdown",
      "source": [
        "Q1: Define the Bayesian interpretation of probability.\n",
        "\n",
        "ANS: Bayesian probability is an interpretation of the concept of probability, in which, instead of frequency or propensity of some phenomenon, probability is interpreted as reasonable expectation representing a state of knowledge or as quantification of a personal belief.\n",
        "\n",
        "Bayesian probability is the process of using probability to try to predict the likelihood of certain events occurring in the future.\n",
        "\n",
        "Some interpretations of probability are associated with approaches to statistical inference, including theories of estimation and hypothesis testing.\n",
        "\n",
        "Q2: Define probability of a union of two events with equation.\n",
        "\n",
        "ANS: The chance of any (one or more) of two or more events occurring is called the union of the events.\n",
        "P(AUB) is the probability of happening of the event A or B. The P(AUB) formula is: P(AUB) = P(A) + P(B) - P(A∩B).\n",
        "\n",
        "Q3: What is joint probability? What is its formula?\n",
        "\n",
        "ANS: A joint probability is a possibility of occurring one or more independent events simultaneously, denoted as P (A∩B) or P (A and B). One can calculate it by multiplying the probability of both outcomes = P (A)*P (B).\n",
        "\n",
        "Q4: What is chain rule of probability?\n",
        "\n",
        "ANS: The chain rule, or general product rule, calculates any component of the joint distribution of a set of random variables using only conditional probabilities. This probability theory is used as a foundation for backpropagation and in creating Bayesian networks.\n",
        "\n",
        "Q5: What are continuous random variables?\n",
        "\n",
        "ANS: A random variable X is continuous if possible values comprise either a single interval on the number line or a union of disjoint intervals.\n",
        "\n",
        "In general, quantities such as pressure, height, mass, weight, density, volume, temperature, and distance are examples of continuous random variables.\n",
        "\n",
        "\n",
        "Q6: What is conditional probability means? What is the formula of it?\n",
        "\n",
        "ANS: Conditional probability is known as the possibility of an event or outcome happening, based on the existence of a previous event or outcome. It is calculated by multiplying the probability of the preceding event by the renewed probability of the succeeding, or conditional, event.\n",
        "\n",
        "If A and B are two events in a sample space S, then the conditional probability of A given B is defined as P(A|B)=P(A∩B)P(B), when P(B)>0.\n",
        "\n",
        "Q7: What are Bernoulli distributions? What is the formula of it?\n",
        "\n",
        "ANS: In probability theory and statistics, the Bernoulli distribution, named after Swiss mathematician Jacob Bernoulli, is the discrete probability distribution of a random variable which takes the value 1 with probability p and the value 0 with probability {\\displaystyle q=1-p}.\n",
        "\n",
        "Q8:What is binomial distribution? What is the formula?\n",
        "\n",
        "ANS: In probability theory and statistics, the binomial distribution with parameters n and p is the discrete probability distribution of the number of successes in a sequence of n independent experiments, each asking a yes–no question, and each with its own Boolean-valued outcome: success or failure.\n",
        "\n",
        " CAP P_{x} = {n \\ x} p^{x} q^{n-x}\n",
        "\n",
        "CAP P\t=\tbinomial probability\n",
        "\n",
        "x\t=\tnumber of times for a specific outcome within n trials\n",
        "\n",
        "{n \\x}\t=\tnumber of combinations\n",
        "\n",
        "p\t=\tprobability of success on a single trial\n",
        "\n",
        "q\t=\tprobability of failure on a single trial\n",
        "\n",
        "n\t=\tnumber of trials\n",
        "\n",
        "Q9: What is Poisson distribution? What is the formula?\n",
        "\n",
        "ANS: The Poisson distribution is a discrete distribution that measures the probability of a given number of events happening in a specified time period.\n",
        "\n",
        "In Poisson distribution, the mean of the distribution is represented by λ and e is constant, which is approximately equal to 2.71828. Then, the Poisson probability is: P(x, λ ) =(e– λ λx)/x! In Poisson distribution, the mean is represented as E(X) = λ.\n",
        "\n",
        "Q10:Define covariance.\n",
        "\n",
        "ANS: Covariance is a measure of the relationship between two random variables and to what extent, they change together. Or we can say, in other words, it defines the changes between the two variables, such that change in one variable is equal to change in another variable.\n",
        "\n",
        "Q11: Define correlation\n",
        "\n",
        "ANS: Correlation is a statistical measure (expressed as a number) that describes the size and direction of a relationship between two or more variables. A correlation between variables, however, does not automatically mean that the change in one variable is the cause of the change in the values of the other variable.\n",
        "\n",
        "\n",
        "Q12: Define sampling with replacement. Give example.\n",
        "\n",
        "ANS: When a sampling unit is drawn from a finite population and is returned to that population, after its characteristic(s) have been recorded, before the next unit is drawn, the sampling is said to be “with replacement”. In the contrary case the sampling is “without replacement”.\n",
        "\n",
        "Q13: What is sampling without replacement? Give example.\n",
        "\n",
        "ANS: In sampling without replacement, each sample unit of the population has only one chance to be selected in the sample. For example, if one draws a simple random sample such that no unit occurs more than one time in the sample, the sample is drawn without replacement.\n",
        "\n",
        "Q14: What is hypothesis? Give example.\n",
        "\n",
        "ANS: A hypothesis (plural: hypotheses), in a scientific context, is a testable statement about the relationship between two or more variables or a proposed explanation for some observed phenomenon.\n",
        "\n",
        "The hypothesis is an educated guess as to what will happen during your experiment. The hypothesis is often written using the words \"IF\" and \"THEN.\" For example, \"If I do not study, then I will fail the test.\" The \"if' and \"then\" statements reflect your independent and dependent variables."
      ],
      "metadata": {
        "id": "-pBWrKUuGlp5"
      }
    }
  ]
}