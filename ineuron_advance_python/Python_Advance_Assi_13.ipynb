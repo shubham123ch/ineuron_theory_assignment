{
  "nbformat": 4,
  "nbformat_minor": 0,
  "metadata": {
    "colab": {
      "provenance": []
    },
    "kernelspec": {
      "name": "python3",
      "display_name": "Python 3"
    },
    "language_info": {
      "name": "python"
    }
  },
  "cells": [
    {
      "cell_type": "markdown",
      "source": [
        "# Shubham Kumar Chaturvedi(Advance_python assigment no: 13)"
      ],
      "metadata": {
        "id": "qup34a8M4uMx"
      }
    },
    {
      "cell_type": "markdown",
      "source": [
        "Q1:Can you create a programme or function that employs both positive and negative indexing? Is\n",
        "there any repercussion if you do so?\n"
      ],
      "metadata": {
        "id": "3rjcJk_g4k8W"
      }
    },
    {
      "cell_type": "code",
      "execution_count": 15,
      "metadata": {
        "colab": {
          "base_uri": "https://localhost:8080/"
        },
        "id": "IGNupM8a4REw",
        "outputId": "b2b5fe76-a414-413c-c403-c677c0a6f412"
      },
      "outputs": [
        {
          "output_type": "stream",
          "name": "stdout",
          "text": [
            "The original list is : [5, 7, 8, 2, 3, 5]\n",
            "The positive index : 4\n",
            "The required Negative index : -2\n"
          ]
        }
      ],
      "source": [
        "\n",
        "# Negative index of Element\n",
        "# Using index() + len()\n",
        "\n",
        "# initializing list\n",
        "test_list = [5, 7, 8, 2, 3, 5]\n",
        "\n",
        "# printing original list\n",
        "print(\"The original list is : \" + str(test_list))\n",
        "\n",
        "# initializing Element\n",
        "K = 3\n",
        "\n",
        "res = (test_list).index(K)\n",
        "# res = len(test_list).index(K)\n",
        "# getting length using len() and subtracting index from it\n",
        "res1 = len(test_list) - test_list.index(K)\n",
        "\n",
        "# printing result\n",
        "print(\"The positive index : \" + str(res))\n",
        "print(\"The required Negative index : -\" + str(res1))\n"
      ]
    },
    {
      "cell_type": "markdown",
      "source": [
        "Q2: What is the most effective way of starting with 1,000 elements in a Python list? Assume that all\n",
        "elements should be set to the same value."
      ],
      "metadata": {
        "id": "SHD-eaP286Aw"
      }
    },
    {
      "cell_type": "code",
      "source": [
        "# import time module to calculate times\n",
        "import time\n",
        "\n",
        "# initialize lists to save the times\n",
        "forLoopTime = []\n",
        "whileLoopTime = []\n",
        "listComprehensionTime = []\n",
        "starOperatorTime = []\n",
        "\n",
        "# repeat the process for 1000 times\n",
        "# and calculate average of times taken.\n",
        "for k in range(1000):\n",
        "\n",
        "\t# start time\n",
        "\tstart = time.time()\n",
        "\t# declare empty list\n",
        "\ta = []\n",
        "\t# run a for loop for 1000 times\n",
        "\tfor i in range(1000):\n",
        "\t\ta.append(0)\n",
        "\t# stop time\n",
        "\tstop = time.time()\n",
        "\tforLoopTime.append(stop-start)\n",
        "\n",
        "\t# start time\n",
        "\tstart = time.time()\n",
        "\t# declare an empty list\n",
        "\ta = []\n",
        "\ti = 0\n",
        "\t# run a for loop 1000 times\n",
        "\twhile(i<1000):\n",
        "\t\ta.append(0)\n",
        "\t\ti+= 1\n",
        "\tstop = time.time()\n",
        "\twhileLoopTime.append(stop-start)\n",
        "\n",
        "\tstart = time.time()\n",
        "\t# list comprehension to initialize list\n",
        "\ta = [0 for i in range(1000)]\n",
        "\tstop = time.time()\n",
        "\tlistComprehensionTime.append(stop-start)\n",
        "\n",
        "\n",
        "\tstart = time.time()\n",
        "\t# using the * operator\n",
        "\ta = [0]*1000\n",
        "\tstop = time.time()\n",
        "\tstarOperatorTime.append(stop-start)\n",
        "\n",
        "\n",
        "\n",
        "print(\"Average time taken by for loop: \" + str(sum(forLoopTime)/100))\n",
        "print(\"Average time taken by while loop: \" + str(sum(whileLoopTime)/100))\n",
        "print(\"Average time taken by list comprehensions: \" + str(sum(listComprehensionTime)/100))\n",
        "print(\"Average time taken by * operator: \" + str(sum(starOperatorTime)/100))\t\n"
      ],
      "metadata": {
        "colab": {
          "base_uri": "https://localhost:8080/"
        },
        "id": "ouF4He6G88ED",
        "outputId": "ae654629-a343-4579-e68c-ab128faba2fc"
      },
      "execution_count": 17,
      "outputs": [
        {
          "output_type": "stream",
          "name": "stdout",
          "text": [
            "Average time taken by for loop: 0.0010494565963745117\n",
            "Average time taken by while loop: 0.001670830249786377\n",
            "Average time taken by list comprehensions: 0.0004231119155883789\n",
            "Average time taken by * operator: 2.8557777404785157e-05\n"
          ]
        }
      ]
    },
    {
      "cell_type": "markdown",
      "source": [
        "1. List comprehensions perform much better than for and while loops with the former being around 3-5 times faster. Another example of this difference can be seen when we try to create a list of numbers from 1-1000. Using list comprehensions is much better than using append().\n",
        "\n",
        "2. Using the * operator is way faster than the remaining methods and this is the way we should be initializing lists."
      ],
      "metadata": {
        "id": "c54dQRQz-AGL"
      }
    },
    {
      "cell_type": "markdown",
      "source": [
        "Q3:How do you slice a list to get any other part while missing the rest? (For example, suppose you want to make a new list with the elements first, third, fifth, seventh, and so on."
      ],
      "metadata": {
        "id": "NsGjTL9k_FYS"
      }
    },
    {
      "cell_type": "code",
      "source": [
        "my_list = [1, 2, 3, 4, 5]\n",
        "\n",
        "print(my_list[1:4:2])"
      ],
      "metadata": {
        "colab": {
          "base_uri": "https://localhost:8080/"
        },
        "id": "-KsM_zo0-Knb",
        "outputId": "b479ab3c-a37d-485f-adbe-4da61803a562"
      },
      "execution_count": 18,
      "outputs": [
        {
          "output_type": "stream",
          "name": "stdout",
          "text": [
            "[2, 4]\n"
          ]
        }
      ]
    },
    {
      "cell_type": "markdown",
      "source": [
        "Q4: Explain the distinctions between indexing and slicing."
      ],
      "metadata": {
        "id": "OEfUbzQoA433"
      }
    },
    {
      "cell_type": "markdown",
      "source": [
        "“Indexing” means referring to an element of an iterable by its position within the iterable. “Slicing” means getting a subset of elements from an iterable based on their indices."
      ],
      "metadata": {
        "id": "1x_luMXLBoSZ"
      }
    },
    {
      "cell_type": "code",
      "source": [
        "my_list = ['a', 'b', 'c', 'd', 'e', 'f', 'g', 'h', 'i']\n",
        "# indexing \n",
        "my_list0 = my_list[2]\n",
        "print(my_list0)\n",
        "#slicing\n",
        "my_list1 = my_list[1:5]\n",
        "print(my_list1)"
      ],
      "metadata": {
        "colab": {
          "base_uri": "https://localhost:8080/"
        },
        "id": "4niAxERFBIDs",
        "outputId": "839b22fb-f7c2-4242-e960-88cc1466755e"
      },
      "execution_count": 24,
      "outputs": [
        {
          "output_type": "stream",
          "name": "stdout",
          "text": [
            "c\n",
            "['b', 'c', 'd', 'e']\n"
          ]
        }
      ]
    },
    {
      "cell_type": "markdown",
      "source": [
        "Q5: What happens if one of the slicing expression&#39;s indexes is out of range?"
      ],
      "metadata": {
        "id": "JcdA5SN1DdM1"
      }
    },
    {
      "cell_type": "markdown",
      "source": [
        "ANS: The slicing operation doesn't raise an error if both your start and stop indices are larger than the sequence length. This is in contrast to simple indexing—if you index an element that is out of bounds, Python will throw an index out of bounds error. However, with slicing it simply returns an empty sequence"
      ],
      "metadata": {
        "id": "bP4Ns2j1EX1L"
      }
    },
    {
      "cell_type": "markdown",
      "source": [
        "Q6:What is the concept of an unbalanced matrix?\n",
        "\n",
        "ANS: whenever the number of sources is not equal to the number of destinations, the assignment problem is called an unbalanced assignment or matrix problem."
      ],
      "metadata": {
        "id": "kZzTbqKiEho-"
      }
    },
    {
      "cell_type": "markdown",
      "source": [
        "Q7: Why is it necessary to use either list comprehension or a loop to create arbitrarily large matrices?\n",
        "\n",
        "ANS: The for loop is a common way to iterate through a list. List comprehension, on the other hand, is a more efficient way to iterate through a list because it requires fewer lines of code less space."
      ],
      "metadata": {
        "id": "2HjWhGFxSRr1"
      }
    },
    {
      "cell_type": "code",
      "source": [],
      "metadata": {
        "id": "j48L3prsDbNr"
      },
      "execution_count": null,
      "outputs": []
    }
  ]
}