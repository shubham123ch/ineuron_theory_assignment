{
  "nbformat": 4,
  "nbformat_minor": 0,
  "metadata": {
    "colab": {
      "provenance": []
    },
    "kernelspec": {
      "name": "python3",
      "display_name": "Python 3"
    },
    "language_info": {
      "name": "python"
    }
  },
  "cells": [
    {
      "cell_type": "markdown",
      "source": [
        "# Shubham Kumar Chaturvedi(Advance_python assigment no: 15)"
      ],
      "metadata": {
        "id": "35TB4-Wtw9Wq"
      }
    },
    {
      "cell_type": "markdown",
      "source": [
        "Q1: What are the new features added in Python 3.8 version?\n",
        "\n",
        "ANS: The Walrus in the Room: Assignment Expressions.\n",
        "\n",
        "Positional-Only Arguments.\n",
        "\n",
        "More Precise Types.\n",
        "\n",
        "Simpler Debugging With f-Strings.\n",
        "\n",
        "The Python Steering Council.\n",
        "\n",
        "Other Pretty Cool Features.\n",
        "\n",
        "importlib.metadata\n",
        "New and Improved math and statistics Functions.\n",
        "Warnings About Dangerous Syntax.\n",
        "Optimizations.\n"
      ],
      "metadata": {
        "id": "44H35r4axGDZ"
      }
    },
    {
      "cell_type": "markdown",
      "source": [
        "Q2: What is monkey patching in Python?\n",
        "\n",
        "ANS: Monkey patching in python refers to modifying or updating a piece of code or class or any module at the runtime. In simple words, we can change the behavior or working of a class/ module at the runtime without changing the whole python code.\n"
      ],
      "metadata": {
        "id": "KekS74XZynLt"
      }
    },
    {
      "cell_type": "markdown",
      "source": [
        "Q3: What is the difference between a shallow copy and deep copy?\n",
        "\n",
        "ANS: In Shallow copy, a copy of the original object is stored and only the reference address is finally copied. In Deep copy, the copy of the original object and the repetitive copies both are stored."
      ],
      "metadata": {
        "id": "ujFLsJuW0R6q"
      }
    },
    {
      "cell_type": "markdown",
      "source": [
        "Q4: What is the maximum possible length of an identifier?\n",
        "\n",
        "ANS: An identifier can have a maximum length of 79 characters in Python."
      ],
      "metadata": {
        "id": "vKVPGjKf1CoM"
      }
    },
    {
      "cell_type": "markdown",
      "source": [
        "Q5: What is generator comprehension?\n",
        "\n",
        "ANS: A generator comprehension is a single-line specification for defining a generator in Python."
      ],
      "metadata": {
        "id": "3HLZjAoZ1R8Z"
      }
    },
    {
      "cell_type": "code",
      "execution_count": null,
      "metadata": {
        "id": "PSwmK5mlw4Tg"
      },
      "outputs": [],
      "source": []
    }
  ]
}