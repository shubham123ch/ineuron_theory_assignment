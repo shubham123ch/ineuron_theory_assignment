{
  "nbformat": 4,
  "nbformat_minor": 0,
  "metadata": {
    "colab": {
      "provenance": []
    },
    "kernelspec": {
      "name": "python3",
      "display_name": "Python 3"
    },
    "language_info": {
      "name": "python"
    }
  },
  "cells": [
    {
      "cell_type": "markdown",
      "source": [
        "**SHUBHAM KUMAR CHATURVEDI (PYTHON ADVANCE ASSIGNMENT,18)**"
      ],
      "metadata": {
        "id": "ez7QVJnNWk9L"
      }
    },
    {
      "cell_type": "markdown",
      "source": [
        "Q1: Describe the differences between text and binary files in a single paragraph.\n",
        "\n",
        "ANS: Text files are organized around lines, each of which ends with a newline character ('\\n'). The source code files are themselves text files. A binary file is the one in which data is stored in the file in the same way as it is stored in the main memory for processing.\n",
        "\n",
        "Q2: What are some scenarios where using text files will be the better option? When would you like to\n",
        "use binary files instead of text files?\n",
        "\n",
        "ANS: Text files are used to store data more user friendly. Binary files are used to store data more compactly. In the text file, a special character whose ASCII value is 26 inserted after the last character to mark the end of file. In the binary file no such character is present.\n",
        "\n",
        "The text files can easily be transferred from one computer system to another. Binary files cannot easily be transferred from one computer system to another due to variations in the internal variations in the internal representation which varies from computer to computer.\n",
        "\n",
        "Q3: What are some of the issues with using binary operations to read and write a Python integer\n",
        "directly to disc?\n",
        "\n",
        "ANS: he disadvantages of binary files are: not readable by humans. fixed datastructure.When you read from a binary file, a data type called bytes is used. This is a bit like list or tuple, except it can only store integers from 0 to 255.\n",
        "\n",
        "Q4: Describe a benefit of using the with keyword instead of explicitly opening a file.\n",
        "\n",
        "ANS: The advantage of using a with statement is that it is guaranteed to close the file no matter how the nested block exits. If an exception occurs before the end of the block, it will close the file before the exception is caught by an outer exception handler.Using with means that the file will be closed as soon as you leave the block. This is beneficial because closing a file is something that can easily be forgotten and ties up resources that you no longer need. Note that this isn't specific to Python 3 at all.\n",
        "\n",
        "Q5: Does Python have the trailing newline while reading a line of text? Does Python append a\n",
        "newline when you write a line of text?\n",
        "\n",
        "ANS: Here, are important characteristics of Python read line: Python readline() method reads only one complete line from the file given. It appends a newline (“\\n”) at the end of the line.\n",
        "\n",
        "Q6: What file operations enable for random-access operation?\n",
        "\n",
        "ANS: position – Returns the channel's current position.\n",
        "position(long) – Sets the channel's position.\n",
        "read(ByteBuffer) – Reads bytes into the buffer from the channel.\n",
        "write(ByteBuffer) – Writes bytes from the buffer to the channel.\n",
        "truncate(long) – Truncates the file (or other entity) connected to the channel.\n",
        "\n",
        "Use the function open(“filename”,”w+”) for Python create text file. The + tells the python interpreter for Python open text file with read and write permissions. Use the readlines function to read the content of the file one by one.\n",
        "\n",
        "Q7: When do you think you&#39;ll use the struct package the most?\n",
        "\n",
        "ANS: The struct module in Python is used to convert native Python data types such as strings and numbers into a string of bytes and vice versa.\n",
        "\n",
        "Q8: When is pickling the best option?\n",
        "\n",
        "ANS: Python pickle module is used for serializing and de-serializing a Python object structure. Any object in Python can be pickled so that it can be saved on disk. What pickle does is that it “serializes” the object first before writing it to file. Pickling is a way to convert a python object (list, dict, etc.)\n",
        "\n",
        "Q9: When will it be best to use the shelve package?\n",
        "\n",
        "ANS:The shelve module in Python's standard library is a simple yet effective tool for persistent data storage when using a relational databaseEasiest way to form a Shelf object is to use open() function defined in shelve module which return a DbfilenameShelf object. The filename parameter is assigned to the database created. Protocol parameter denotes pickle protocol writeback parameter by default is false. If set to true, the accessed entries are cached.\n",
        "\n",
        "Q10: What is a special restriction when using the shelve package, as opposed to using other data\n",
        "dictionaries?\n",
        "\n",
        "ANS: The shelf dictionary has certain restrictions. Only string data type can be used as key in this special dictionary object, whereas any picklable Python object can be used as value. This is the base class for shelf implementations.The shelve module in Python's standard library is a simple yet effective tool for persistent data storage when using a relational database solution is not required. The shelf object defined in this module is dictionary-like object which is persistently stored in a disk file."
      ],
      "metadata": {
        "id": "XejiYFGIWtFr"
      }
    }
  ]
}