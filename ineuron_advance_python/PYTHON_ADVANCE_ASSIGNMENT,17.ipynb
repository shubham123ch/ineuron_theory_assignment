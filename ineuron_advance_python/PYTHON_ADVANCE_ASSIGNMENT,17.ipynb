{
  "nbformat": 4,
  "nbformat_minor": 0,
  "metadata": {
    "colab": {
      "provenance": []
    },
    "kernelspec": {
      "name": "python3",
      "display_name": "Python 3"
    },
    "language_info": {
      "name": "python"
    }
  },
  "cells": [
    {
      "cell_type": "markdown",
      "source": [
        "**SHUBHAM KUMAR CHATURVEDI (PYTHON ADVANCE ASSIGNMENT,17) INEURON**"
      ],
      "metadata": {
        "id": "IgN6FWdRSI7p"
      }
    },
    {
      "cell_type": "markdown",
      "source": [
        "Q1: Explain the difference between greedy and non-greedy syntax with visual terms in as few words\n",
        "as possible. What is the bare minimum effort required to transform a greedy pattern into a non-greedy\n",
        "one? What characters or characters can you introduce or change?\n",
        "\n",
        "ANS: A greedy quantifier takes as much as it can get, and a non-greedy quantifier takes as little as possible (in both cases only while still allowing the entire regex to succeed).\n",
        "\n",
        "Q2: When exactly does greedy versus non-greedy make a difference?  What if you&#39;re looking for a\n",
        "non-greedy match but the only one available is greedy?\n",
        "\n",
        "ANS: The difference between the greedy and the non-greedy match is the following: The greedy match will try to match as many repetitions of the quantified pattern as possible. The non-greedy match will try to match as few repetitions of the quantified pattern as possible.\n",
        "\n",
        "\n",
        "Q3: Unlike a normal regex pattern, a look-ahead condition does not consume the characters it\n",
        "examines. Describe a situation in which this could make a difference in the results of your\n",
        "programme.\n",
        "\n",
        "ANS: There are two types of lookaround assertions for regular expressions: lookahead and lookbehind. In both cases, the assertion is a condition that must be satisfied to return a match to the expression. A lookahead assertion has the form (?= test) and can appear anywhere in a regular expression.\n",
        "\n",
        "Q4: In standard expressions, what is the difference between positive look-ahead and negative look-\n",
        "ahead?\n",
        "\n",
        "ANS: Positive lookahead: (?= «pattern») matches if pattern matches what comes after the current location in the input string. Negative lookahead: (?! «pattern») matches if pattern does not match what comes after the current location in the input string.\n",
        "\n",
        "Q5: What is the benefit of referring to groups by name rather than by number in a standard\n",
        "expression?\n",
        "\n",
        "ANS: The advantage to named groups is that it adds readability and understandability to the code, so that you can easily see what part of a regular expression match is being referenced.\n",
        "\n",
        "Q6: When parsing a string, what is at least one thing that the Scanner interface does for you that the\n",
        "re.findall feature does not?\n",
        "\n",
        "ANS: findall() module is used to search for “all” occurrences that match a given pattern. In contrast, search() module will only return the first occurrence that matches the specified pattern. findall() will iterate over all the lines of the file and will return all non-overlapping matches of pattern in a single step.The re.findall(pattern, string) method scans string from left to right, searching for all non-overlapping matches of the pattern .\n",
        "\n",
        "\n",
        "Q7: Does a scanner object have to be named scanner?\n",
        "\n",
        "ANS:  There is no scanner method in Python, but rather it does have an equivalent, which is the input() method, which just like the scanner method."
      ],
      "metadata": {
        "id": "rjW5dc7ASPMj"
      }
    }
  ]
}