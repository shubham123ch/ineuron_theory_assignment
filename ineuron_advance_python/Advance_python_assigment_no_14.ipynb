{
  "nbformat": 4,
  "nbformat_minor": 0,
  "metadata": {
    "colab": {
      "provenance": []
    },
    "kernelspec": {
      "name": "python3",
      "display_name": "Python 3"
    },
    "language_info": {
      "name": "python"
    }
  },
  "cells": [
    {
      "cell_type": "markdown",
      "source": [
        "# Shubham Kumar Chaturvedi(Advance_python assigment no: 14)"
      ],
      "metadata": {
        "id": "yCqt9t0ob-NK"
      }
    },
    {
      "cell_type": "markdown",
      "source": [
        "Q1: Is an assignment operator like += only for show? Is it possible that it would lead to faster results\n",
        "at the runtime?\n",
        "\n",
        "ANS: The plus-equals operator += provides a convenient way to add a value to an existing variable and assign the new value back to the same variable. In the case where the variable and the value are strings, this operator performs string concatenation instead of addition."
      ],
      "metadata": {
        "id": "NBm0fyUqcdxZ"
      }
    },
    {
      "cell_type": "markdown",
      "source": [
        "Q2: What is the smallest number of statements you&#39;d have to write in most programming languages to\n",
        "replace the Python expression a, b = a + b, a?\n",
        "\n",
        "ANS: a = 1\n",
        "b = 2\n",
        "a, b = b ,a + b"
      ],
      "metadata": {
        "id": "kYL-N42mdZNv"
      }
    },
    {
      "cell_type": "markdown",
      "source": [
        "Q3: In Python, what is the most effective way to set a list of 100 integers to 0?\n",
        "\n"
      ],
      "metadata": {
        "id": "BpMfJHajk9pF"
      }
    },
    {
      "cell_type": "code",
      "source": [
        "# import time module to calculate times\n",
        "import time\n",
        "\n",
        "# initialize lists to save the times\n",
        "forLoopTime = []\n",
        "whileLoopTime = []\n",
        "listComprehensionTime = []\n",
        "starOperatorTime = []\n",
        "\n",
        "# repeat the process for 100 times\n",
        "# and calculate average of times taken.\n",
        "for k in range(100):\n",
        "\n",
        "\t# start time\n",
        "\tstart = time.time()\n",
        "\t# declare empty list\n",
        "\ta = []\n",
        "\t# run a for loop for 100 times\n",
        "\tfor i in range(100):\n",
        "\t\ta.append(0)\n",
        "\t# stop time\n",
        "\tstop = time.time()\n",
        "\tforLoopTime.append(stop-start)\n",
        "\n",
        "\t# start time\n",
        "\tstart = time.time()\n",
        "\t# declare an empty list\n",
        "\ta = []\n",
        "\ti = 0\n",
        "\t# run a for loop 100 times\n",
        "\twhile(i<100):\n",
        "\t\ta.append(0)\n",
        "\t\ti+= 1\n",
        "\tstop = time.time()\n",
        "\twhileLoopTime.append(stop-start)\n",
        "\n",
        "\tstart = time.time()\n",
        "\t# list comprehension to initialize list\n",
        "\ta = [0 for i in range(100)]\n",
        "\tstop = time.time()\n",
        "\tlistComprehensionTime.append(stop-start)\n",
        "\n",
        "\n",
        "\tstart = time.time()\n",
        "\t# using the * operator\n",
        "\ta = [0]*100 \n",
        "\tstop = time.time()\n",
        "\tstarOperatorTime.append(stop-start)\n",
        "\n",
        "\n",
        "\n",
        "print(\"Average time taken by for loop: \" + str(sum(forLoopTime)/100))\n",
        "print(\"Average time taken by while loop: \" + str(sum(whileLoopTime)/100))\n",
        "print(\"Average time taken by list comprehensions: \" + str(sum(listComprehensionTime)/100))\n",
        "print(\"Average time taken by * operator: \" + str(sum(starOperatorTime)/100))\t\n"
      ],
      "metadata": {
        "colab": {
          "base_uri": "https://localhost:8080/"
        },
        "id": "sFKzbZ2IccHX",
        "outputId": "02dc3f93-ad22-42a1-f9c2-8c80681d1ec7"
      },
      "execution_count": 1,
      "outputs": [
        {
          "output_type": "stream",
          "name": "stdout",
          "text": [
            "Average time taken by for loop: 1.93023681640625e-05\n",
            "Average time taken by while loop: 2.7210712432861327e-05\n",
            "Average time taken by list comprehensions: 8.127689361572266e-06\n",
            "Average time taken by * operator: 9.131431579589844e-07\n"
          ]
        }
      ]
    },
    {
      "cell_type": "markdown",
      "source": [
        "List comprehensions and Using the * operator is way faster than the remaining methods."
      ],
      "metadata": {
        "id": "oIDZPzzZl5kO"
      }
    },
    {
      "cell_type": "markdown",
      "source": [
        "Q4: If you&#39;re using IDLE to run a Python application, explain how to print a multidimensional list as\n",
        "efficiently?\n",
        "\n"
      ],
      "metadata": {
        "id": "m9FeFzZ-mC7Q"
      }
    },
    {
      "cell_type": "code",
      "execution_count": 2,
      "metadata": {
        "colab": {
          "base_uri": "https://localhost:8080/"
        },
        "id": "mgrTTOrhb760",
        "outputId": "e2bc76cf-2120-44f9-9ba8-b2f4f8cf9cba"
      },
      "outputs": [
        {
          "output_type": "stream",
          "name": "stdout",
          "text": [
            "[2, 4, 6, 8, 10]\n",
            "[3, 6, 9, 12, 15]\n",
            "[4, 8, 12, 16, 20]\n"
          ]
        }
      ],
      "source": [
        "# Python program to demonstrate printing\n",
        "# of complete multidimensional list row\n",
        "# by row.\n",
        "a = [[2, 4, 6, 8, 10], [3, 6, 9, 12, 15], [4, 8, 12, 16, 20]]\n",
        "for record in a:\n",
        "\tprint(record)\n"
      ]
    },
    {
      "cell_type": "markdown",
      "source": [
        "Q5: Is it possible to use list comprehension with a string? If so, how can you go about doing it?\n",
        "\n",
        "\n",
        "ANS: List comprehension in Python is an easy and compact syntax for creating a list from a string or another list."
      ],
      "metadata": {
        "id": "y_QvaF4CqAI8"
      }
    },
    {
      "cell_type": "code",
      "source": [
        "# WITH LIST COMPREHENSION: \n",
        "even_nums = [x for x in range(21) if x%2 == 0]\n",
        "print(even_nums)\n",
        "\n",
        "# WITHOUT LIST COMPREHENSION: \n",
        "even_nums = []\n",
        "for x in range(21):\n",
        "    if x%2 == 0:\n",
        "        even_nums.append(x)\n",
        "print(even_nums)"
      ],
      "metadata": {
        "colab": {
          "base_uri": "https://localhost:8080/"
        },
        "id": "00eewNXJqVJF",
        "outputId": "17283506-3c39-4738-be6e-9f5ff095ec7a"
      },
      "execution_count": 4,
      "outputs": [
        {
          "output_type": "stream",
          "name": "stdout",
          "text": [
            "[0, 2, 4, 6, 8, 10, 12, 14, 16, 18, 20]\n",
            "[0, 2, 4, 6, 8, 10, 12, 14, 16, 18, 20]\n"
          ]
        }
      ]
    },
    {
      "cell_type": "markdown",
      "source": [
        "Q6: From the command line, how do you get support with a user-written Python programme? Is this\n",
        "possible from inside IDLE?\n",
        "\n",
        "ANS: IDLE is the Python environment we will be using\n",
        "The IDLE shell window opens up. \n",
        "Opening up a new window will create a script file window. \n",
        "You can run the script by going \"Run --> Run Module\" or simply by hitting F5 (on some systems, Fn + F5).\n",
        "Before running, IDLE prompts to save the script as a file."
      ],
      "metadata": {
        "id": "Hwo24kjyr44p"
      }
    },
    {
      "cell_type": "markdown",
      "source": [
        "Q7: Functions are said to be “first-class objects” in Python but not in most other languages, such as\n",
        "C++ or Java. What can you do in Python with a function (callable object) that you can&#39;t do in C or\n",
        "C++?\n",
        "\n",
        "ANS :  Python are first class objects, which means you can pass them to other functions as arguments, return them from other functions as values, and store them in variables and data structures.Functions can also be passed as parameters to other functions. In Java, methods are not first class objects."
      ],
      "metadata": {
        "id": "HXmKrYp8tv77"
      }
    },
    {
      "cell_type": "markdown",
      "source": [
        "Q8: How do you distinguish between a wrapper, a wrapped feature, and a decorator?\n",
        "\n",
        "ANS: Wrappers around the functions are also knows as decorators which are a very powerful and useful tool in Python since it allows programmers to modify the behavior of function or class. Decorators allow us to wrap another function in order to extend the behavior of the wrapped function, without permanently modifying it."
      ],
      "metadata": {
        "id": "uJSx7VW4uW38"
      }
    },
    {
      "cell_type": "markdown",
      "source": [
        "Q9:If a function is a generator function, what does it return?\n",
        "\n",
        "ANS: Simply speaking, a generator is a function that returns an object (iterator) which we can iterate over (one value at a time)."
      ],
      "metadata": {
        "id": "5iQv01uDu6s9"
      }
    },
    {
      "cell_type": "markdown",
      "source": [
        "Q10: What is the one improvement that must be made to a function in order for it to become a\n",
        "generator function in the Python language?\n",
        "\n",
        "ANS:  It is as easy as defining a normal function, but with a yield statement instead of a return statement. If a function contains at least one yield statement (it may contain other yield or return statements), it becomes a generator function."
      ],
      "metadata": {
        "id": "zIj2qVjevG7i"
      }
    },
    {
      "cell_type": "markdown",
      "source": [
        "Q11: Identify at least one benefit of generators.\n",
        "\n",
        "ANS: Memory efficient method of generating sequence types in python.\n",
        "Time-efficient when compared to list comparisons."
      ],
      "metadata": {
        "id": "3esg1BlcvhRD"
      }
    }
  ]
}