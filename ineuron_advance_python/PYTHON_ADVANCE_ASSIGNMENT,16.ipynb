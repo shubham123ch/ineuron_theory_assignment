{
  "nbformat": 4,
  "nbformat_minor": 0,
  "metadata": {
    "colab": {
      "provenance": []
    },
    "kernelspec": {
      "name": "python3",
      "display_name": "Python 3"
    },
    "language_info": {
      "name": "python"
    }
  },
  "cells": [
    {
      "cell_type": "markdown",
      "source": [
        "**SHUBHAM KUMAR CHATURVEDI (PYTHON ADVANCE ASSIGNMENT,16) INEURON**"
      ],
      "metadata": {
        "id": "8y2Ok8lTNcs0"
      }
    },
    {
      "cell_type": "markdown",
      "source": [
        "Q1: What is the benefit of regular expressions?\n",
        "\n",
        "ANS: Regular expressions are particularly useful for defining filters. Regular expressions contain a series of characters that define a pattern of text to be matched—to make a filter more specialized, or general.\n",
        "\n",
        "regular expressions for searching data based on a particular pattern. You can leverage regular expressions to find and replace text, validate data, and more. They can also make your code crisp, readable and easier to manage and maintain.\n",
        "\n",
        "\n",
        "Q2: How much do you need to use the following sentence while using regular expressions? IMPORT RE\n",
        "\n",
        "ANS:  Python has a module named re that is used for regular expressions in Python. We can import this module by using the import statement.\n",
        "\n",
        "\n",
        "Q3: Which characters have special significance in square brackets when expressing a range, and\n",
        "under what circumstances?\n",
        "\n",
        "ANS: A string enclosed in square brackets matches any one character in the string. 1. For example, regular expression [abc] matches a , b , or c .\n",
        "\n",
        "Q4: How does compiling a regular-expression object benefit you?\n",
        "\n",
        "ANS: compile(pattern, repl, string): We can combine a regular expression pattern into pattern objects, which can be used for pattern matching. It also helps to search a pattern again without rewriting it.\n",
        "\n",
        "compile() method is used to compile a regular expression pattern provided as a string into a regex pattern object ( re. Pattern ). Later we can use this pattern object to search for a match inside different target strings using regex methods such as a re.\n",
        "\n",
        "\n",
        "Q5: What are some examples of how to use the match object returned by re.match and re.search?\n",
        "\n",
        "ANS: There is a difference between the use of both functions. Both return the first match of a substring found in the string, but re.match() searches only from the beginning of the string and return match object if found. But if a match of substring is found somewhere in the middle of the string, it returns none. \n",
        "While re.search() searches for the whole string even if the string contains multi-lines and tries to find a match of the substring in all the lines of string."
      ],
      "metadata": {
        "id": "DY195ZlvNiUR"
      }
    },
    {
      "cell_type": "code",
      "source": [
        "# import re module\n",
        "import re\n",
        "\n",
        "Substring ='string'\n",
        "\n",
        "\n",
        "String1 ='''We are learning regex with\n",
        "\t\tregex is very useful for string matching.\n",
        "\t\tIt is fast too.'''\n",
        "String2 ='''string We are learning regex with\n",
        "\t\tregex is very useful for string matching.\n",
        "\t\tIt is fast too.'''\n",
        "\n",
        "# Use of re.search() Method\n",
        "print(re.search(Substring, String1, re.IGNORECASE))\n",
        "# Use of re.match() Method\n",
        "print(re.match(Substring, String1, re.IGNORECASE))\n",
        "\n",
        "# Use of re.search() Method\n",
        "print(re.search(Substring, String2, re.IGNORECASE))\n",
        "# Use of re.match() Method\n",
        "print(re.match(Substring, String2, re.IGNORECASE))\n"
      ],
      "metadata": {
        "colab": {
          "base_uri": "https://localhost:8080/"
        },
        "id": "Yd6FlDIKPGIQ",
        "outputId": "42d64212-609a-440f-ca80-48a725f188dd"
      },
      "execution_count": 1,
      "outputs": [
        {
          "output_type": "stream",
          "name": "stdout",
          "text": [
            "<re.Match object; span=(54, 60), match='string'>\n",
            "None\n",
            "<re.Match object; span=(0, 6), match='string'>\n",
            "<re.Match object; span=(0, 6), match='string'>\n"
          ]
        }
      ]
    },
    {
      "cell_type": "markdown",
      "source": [
        "Q6: What is the difference between using a vertical bar (|) as an alteration and using square brackets\n",
        "as a character set?\n",
        "\n",
        "ANS:What does vertical bar mean in regex?\n",
        "The vertical bar symbol acts as an OR operator and matches the values to the left and right of the vertical bar. For example, the regular expression Jack|Jill matches Jack and Jill .\n",
        "\n",
        "The vertical bar is a regex \"or\" means \"a or b\". Square brackets are a character class meaning \"any character from a or b.\n",
        "\n",
        "Q7: In regular-expression search patterns, why is it necessary to use the raw-string indicator (r)? In  \n",
        "replacement strings?\n",
        "\n",
        "ANS: to utilize Python's raw string notation; backslashes are not treated differently in a string literal prefixed with \"r.\" Therefore, r\"\\n\" is a two-character string made up of the letters \"\" and \"n,\" whereas \"\\n\" is a one-character string made up of the letter \"n.\"\n",
        "\n"
      ],
      "metadata": {
        "id": "sOZKdqvOPs7Y"
      }
    }
  ]
}