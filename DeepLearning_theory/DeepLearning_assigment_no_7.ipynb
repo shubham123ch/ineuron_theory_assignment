{
  "nbformat": 4,
  "nbformat_minor": 0,
  "metadata": {
    "colab": {
      "provenance": []
    },
    "kernelspec": {
      "name": "python3",
      "display_name": "Python 3"
    },
    "language_info": {
      "name": "python"
    }
  },
  "cells": [
    {
      "cell_type": "markdown",
      "source": [
        "# Shubham Kumar Chaturvedi(DeepLearning assigment no: 7)"
      ],
      "metadata": {
        "id": "J83AzOvYN-Td"
      }
    },
    {
      "cell_type": "markdown",
      "source": [
        "Q1: Can you think of a few applications for a sequence-to-sequence RNN? What about a\n",
        "sequence-to-vector RNN, and a vector-to-sequence RNN?\n",
        "\n",
        "ANS: In Sequence to Sequence Learning, RNN is trained to map an input sequence to an output sequence which is not necessarily of the same length. Applications are speech recognition, machine translation, image captioning and question answering.\n",
        "\n",
        "Q2: How many dimensions must the inputs of an RNN layer have? What does each dimension\n",
        "represent? What about its outputs?\n",
        "\n",
        "ANS:  the RNN input needs to have 3 dimensions. Typically it would be batch size, the number of steps and number of features.\n",
        "\n",
        "Q3: If you want to build a deep sequence-to-sequence RNN, which RNN layers should\n",
        "have return_sequences=True? What about a sequence-to-vector RNN?\n",
        "\n",
        "ANS: n Sequence to Sequence Learning, RNN is trained to map an input sequence to an output sequence which is not necessarily of the same length. Applications are speech recognition, machine translation, image captioning and question answering.\n",
        "\n",
        "Q4: Suppose you have a daily univariate time series, and you want to forecast the next seven\n",
        "days. Which RNN architecture should you use?\n",
        "\n",
        "ANS: we can  predict the future using an LSTM .\n",
        "\n",
        "Q5: What are the main difficulties when training RNNs? How can you handle them?\n",
        "\n",
        "ANS:While in principle the recurrent network is a simple and powerful model, in practice, it is, unfortunately, hard to train properly. The recurrent connections in the hidden layer allow information to persist from one input to another.\n",
        "\n",
        "Q6: Can you sketch the LSTM cell’s architecture?\n",
        "\n",
        "ANS: The LSTM architecture aims to provide a short-term memory for RNN that can last thousands of timesteps, thus \"long short-term memory\". A common LSTM unit is composed of a cell, an input gate, an output gate and a forget gate.\n",
        "\n",
        "Q7: Why would you want to use 1D convolutional layers in an RNN?\n",
        "\n",
        "ANS:The main difference between a CNN and an RNN is the ability to process temporal information — data that comes in sequences, such as a sentence. Recurrent neural networks are designed for this very purpose, while convolutional neural networks are incapable of effectively interpreting temporal information.\n",
        "\n",
        "Q8: Which neural network architecture could you use to classify videos?\n",
        "\n",
        "ANS:  3D convolutional neural network (CNN) for video classification using the UCF101 action recognition dataset. A 3D CNN uses a three-dimensional filter to perform convolutions. The kernel is able to slide in three directions, whereas in a 2D CNN it can slide in two dimensions.\n",
        "\n",
        "Q9: Train a classification model for the SketchRNN dataset, available in TensorFlow Datasets.\n",
        "\n",
        "ANS: SketchRNN is an impressive generative model that was trained to produce vector drawings using this dataset.Train a classification model for the SketchRNN dataset, available in TensorFlow Datasets. \n"
      ],
      "metadata": {
        "id": "yeUBfsHlODEp"
      }
    }
  ]
}