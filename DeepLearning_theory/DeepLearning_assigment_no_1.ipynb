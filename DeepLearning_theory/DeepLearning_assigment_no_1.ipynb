{
  "nbformat": 4,
  "nbformat_minor": 0,
  "metadata": {
    "colab": {
      "provenance": []
    },
    "kernelspec": {
      "name": "python3",
      "display_name": "Python 3"
    },
    "language_info": {
      "name": "python"
    }
  },
  "cells": [
    {
      "cell_type": "markdown",
      "source": [
        "# Shubham Kumar Chaturvedi(DeepLearning assigment no: 1)"
      ],
      "metadata": {
        "id": "_bkZrJ-QF_8f"
      }
    },
    {
      "cell_type": "markdown",
      "source": [
        "Q1. What is the function of a summation junction of a neuron? What is threshold activation\n",
        "function?\n",
        "\n",
        " ANS: summation, in physiology, the additive effect of several electrical impulses on a neuromuscular junction, the junction between a nerve cell and a muscle cell. Individually the stimuli cannot evoke a response, but collectively they can generate a response.\n",
        "\n",
        "A threshold activation function (or simply the activation function, also known as squashing function) results in an output signal only when an input signal exceeding a specific threshold value comes as an input."
      ],
      "metadata": {
        "id": "GKwYqN-oGeZd"
      }
    },
    {
      "cell_type": "markdown",
      "source": [
        "Q2. What is a step function? What is the difference of step function with threshold function?\n",
        "\n",
        "ANS: Step Function is one of the simplest kind of activation functions. In this, we consider a threshold value and if the value of net input say y is greater than the threshold then the neuron is activated.\n",
        "Mathematically,\n",
        "\n",
        " f(x)=1, \\text{if x}>=0 \n",
        " \n",
        " f(x)=0, \\text{if x}<0 "
      ],
      "metadata": {
        "id": "g-PkzdrRHDol"
      }
    },
    {
      "cell_type": "markdown",
      "source": [
        "Q3. Explain the McCulloch–Pitts model of neuron.\n",
        "\n",
        "ANS: The McCulloch-Pitts neural model, which was the earliest ANN model, has only two types of inputs — Excitatory and Inhibitory. The excitatory inputs have weights of positive magnitude and the inhibitory weights have weights of negative magnitude. The inputs of the McCulloch-Pitts neuron could be either 0 or 1."
      ],
      "metadata": {
        "id": "Rk24TUCUITCo"
      }
    },
    {
      "cell_type": "markdown",
      "source": [
        "Q4. Explain the ADALINE network model.\n",
        "\n",
        "ANS: MADALINE (Many ADALINE) is a three-layer (input, hidden, output), fully connected, feed-forward artificial neural network architecture for classification that uses ADALINE units in its hidden and output layers, i.e. its activation function is the sign function. The three-layer network uses memistors."
      ],
      "metadata": {
        "id": "1Nd4v7ukJS-4"
      }
    },
    {
      "cell_type": "markdown",
      "source": [],
      "metadata": {
        "id": "TOtTm5FNJwhX"
      }
    },
    {
      "cell_type": "markdown",
      "source": [
        "Q5. What is the constraint of a simple perceptron? Why it may fail with a real-world data set?\n",
        "\n",
        "ANS: The output of a perceptron can only be a binary number (0 or 1) due to the hard limit transfer function. Perceptron can only be used to classify the linearly separable sets of input vectors. If input vectors are non-linear, it is not easy to classify them properly."
      ],
      "metadata": {
        "id": "Iy42BG3nJwjE"
      }
    },
    {
      "cell_type": "markdown",
      "source": [
        "Q6. What is linearly inseparable problem? What is the role of the hidden layer?\n",
        "\n",
        "ANS:  not all decision problems are linearly separable: they cannot be solved using a linear decision boundary. Problems like these are termed linearly inseparable."
      ],
      "metadata": {
        "id": "G1zEMfn_KMcG"
      }
    },
    {
      "cell_type": "markdown",
      "source": [
        "Q7.Explain XOR problem in case of a simple perceptron.\n",
        "\n",
        "ANS: The XOr problem is that we need to build a Neural Network (a perceptron in our case) to produce the truth table related to the XOr logical operator. This is a binary classification problem. Hence, supervised learning is a better way to solve it. In this case, we will be using perceptrons."
      ],
      "metadata": {
        "id": "swJqOh9cKkYP"
      }
    },
    {
      "cell_type": "markdown",
      "source": [
        "Q8. Design a multi-layer perceptron to implement A XOR B.\n",
        "\n",
        "ANS:A multilayer perceptron (MLP) is a feedforward artificial neural network that generates a set of outputs from a set of inputs. An MLP is characterized by several layers of input nodes connected as a directed graph between the input and output layers.\n",
        "\n",
        "a multi layered perceptron with the following weights and it predicts the output of a XOr logical operator.\n",
        "\n",
        "Using the formulae for AND, NOT and OR gates, we get:\n",
        "\n",
        "1.h1 = σ((1-x1) + x2) = σ((-1)x1 + x2 + 1)\n",
        "\n",
        "2.h2 = σ(x1 + (1-x2)) = σ(x1 + (-1)x2 + 1)\n",
        "\n",
        "y = σ(h1 + h2) = σ(h1 + h2 + 0).\n"
      ],
      "metadata": {
        "id": "ULV5J3oxLA3_"
      }
    },
    {
      "cell_type": "markdown",
      "source": [
        "Q9. Explain the single-layer feed forward architecture of ANN.\n",
        "\n",
        "ANS: The output layer is formed when different weights are applied to input nodes and the cumulative effect per node is taken. After this, the neurons collectively give the output layer to compute the output signals."
      ],
      "metadata": {
        "id": "fwOH-0gUMOEX"
      }
    },
    {
      "cell_type": "markdown",
      "source": [
        "Q10.Explain the competitive network architecture of ANN.\n",
        "\n",
        "ANS: A Competitive learning is an artificial neural network learning process where different neurons or processing elements compete on who is allowed to learn to represent the current input."
      ],
      "metadata": {
        "id": "bP6qM9nwMaVX"
      }
    },
    {
      "cell_type": "markdown",
      "source": [
        "Q.11 Consider a multi-layer feed forward neural network. Enumerate and explain steps in the\n",
        "backpropagation algorithm used to train the network.\n",
        "\n",
        "ANS: The backpropagation algorithm performs learning on a multilayer feed-forward neural network. It iteratively learns a set of weights for prediction of the class label of tuples. A multilayer feed-forward neural network consists of an input layer, one or more hidden layers, and an output layer."
      ],
      "metadata": {
        "id": "iKbxYeruNCm1"
      }
    },
    {
      "cell_type": "markdown",
      "source": [
        "Q.12 What are the advantages and disadvantages of neural networks?\n",
        "\n",
        "ANS: advantages of the neural network are as follows −\n",
        "--------\n",
        "A neural network can implement tasks that a linear program cannot.\n",
        "\n",
        "When an item of the neural network declines, it can continue without some issues by its parallel features.\n",
        "\n",
        "A neural network determines and does not require to be reprogrammed.\n",
        "\n",
        "It can be executed in any application.\n",
        "\n",
        "The disadvantages of the neural network are as follows −\n",
        "------------\n",
        "The neural network required training to operate.\n",
        "\n",
        "The structure of a neural network is disparate from the structure of microprocessors therefore required to be emulated.\n",
        "\n",
        "It needed high processing time for big neural networks."
      ],
      "metadata": {
        "id": "I6XW5a-RNtFX"
      }
    },
    {
      "cell_type": "markdown",
      "source": [
        "Q.13 Write short notes on any two of the following:\n",
        "\n",
        "1. Biological neuron\n",
        "2. ReLU function\n",
        "3. Single-layer feed forward ANN\n",
        "4. Gradient descent\n",
        "5. Recurrent networks\n",
        "\n",
        "ANS: 1. Biological neuron - models, also known as a spiking neuron models, are mathematical descriptions of the properties of certain cells in the nervous system that generate sharp electrical potentials across their cell membrane, roughly one millisecond in duration, called action potentials or spikes.\n",
        "2. the rectifier or ReLU activation function - is an activation function defined\n",
        "\n",
        " the positive part of its argument:\n",
        "\n",
        " {\\displaystyle f(x)=x^{+}=\\max, } \n",
        " \n",
        "where x is the input to a neuron.\n",
        "a piecewise linear function that will output the input directly if it is positive, otherwise, it will output zero.\n",
        "\n",
        "3. Single-layer feed forward ANN: Single-layer feed-forward network. In this type of network, we have only two layers input layer and the output layer but the input layer does not count because no computation is performed in this layer.\n",
        "\n",
        "4.  Gradient descent: Gradient descent is an optimization algorithm which is commonly-used to train machine learning models and neural networks. Training data helps these models learn over time, and the cost function within gradient descent specifically acts as a barometer, gauging its accuracy with each iteration of parameter updates.\n",
        "\n",
        "5. Recurrent networks: A recurrent neural network is a type of artificial neural network commonly used in speech recognition and natural language processing. Recurrent neural networks recognize data's sequential characteristics and use patterns to predict the next likely scenario.\n"
      ],
      "metadata": {
        "id": "1KBpaYuOOprI"
      }
    }
  ]
}