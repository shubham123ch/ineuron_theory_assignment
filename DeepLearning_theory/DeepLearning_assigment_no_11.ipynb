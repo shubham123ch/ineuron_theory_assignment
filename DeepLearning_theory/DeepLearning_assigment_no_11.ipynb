{
  "nbformat": 4,
  "nbformat_minor": 0,
  "metadata": {
    "colab": {
      "provenance": []
    },
    "kernelspec": {
      "name": "python3",
      "display_name": "Python 3"
    },
    "language_info": {
      "name": "python"
    }
  },
  "cells": [
    {
      "cell_type": "markdown",
      "source": [
        "# Shubham Kumar Chaturvedi(DeepLearning assigment no: 11)"
      ],
      "metadata": {
        "id": "u70GvdMcrFF9"
      }
    },
    {
      "cell_type": "markdown",
      "source": [
        "Q1: Write the Python code to implement a single neuron."
      ],
      "metadata": {
        "id": "89TQTY2yrPN3"
      }
    },
    {
      "cell_type": "code",
      "source": [
        "# Python program to implement a\n",
        "# single neuron neural network\n",
        "\n",
        "# import all necessary libraries\n",
        "from numpy import exp, array, random, dot, tanh\n",
        "\n",
        "# Class to create a neural\n",
        "# network with single neuron\n",
        "class NeuralNetwork():\n",
        "\t\n",
        "\tdef __init__(self):\n",
        "\t\t\n",
        "\t\t# Using seed to make sure it'll\n",
        "\t\t# generate same weights in every run\n",
        "\t\trandom.seed(1)\n",
        "\t\t\n",
        "\t\t# 3x1 Weight matrix\n",
        "\t\tself.weight_matrix = 2 * random.random((3, 1)) - 1\n",
        "\n",
        "\t# tanh as activation function\n",
        "\tdef tanh(self, x):\n",
        "\t\treturn tanh(x)\n",
        "\n",
        "\t# derivative of tanh function.\n",
        "\t# Needed to calculate the gradients.\n",
        "\tdef tanh_derivative(self, x):\n",
        "\t\treturn 1.0 - tanh(x) ** 2\n",
        "\n",
        "\t# forward propagation\n",
        "\tdef forward_propagation(self, inputs):\n",
        "\t\treturn self.tanh(dot(inputs, self.weight_matrix))\n",
        "\t\n",
        "\t# training the neural network.\n",
        "\tdef train(self, train_inputs, train_outputs,\n",
        "\t\t\t\t\t\t\tnum_train_iterations):\n",
        "\t\t\t\t\t\t\t\t\n",
        "\t\t# Number of iterations we want to\n",
        "\t\t# perform for this set of input.\n",
        "\t\tfor iteration in range(num_train_iterations):\n",
        "\t\t\toutput = self.forward_propagation(train_inputs)\n",
        "\n",
        "\t\t\t# Calculate the error in the output.\n",
        "\t\t\terror = train_outputs - output\n",
        "\n",
        "\t\t\t# multiply the error by input and then\n",
        "\t\t\t# by gradient of tanh function to calculate\n",
        "\t\t\t# the adjustment needs to be made in weights\n",
        "\t\t\tadjustment = dot(train_inputs.T, error *\n",
        "\t\t\t\t\t\t\tself.tanh_derivative(output))\n",
        "\t\t\t\t\t\t\t\n",
        "\t\t\t# Adjust the weight matrix\n",
        "\t\t\tself.weight_matrix += adjustment\n",
        "\n",
        "# Driver Code\n",
        "if __name__ == \"__main__\":\n",
        "\t\n",
        "\tneural_network = NeuralNetwork()\n",
        "\t\n",
        "\tprint ('Random weights at the start of training')\n",
        "\tprint (neural_network.weight_matrix)\n",
        "\n",
        "\ttrain_inputs = array([[0, 0, 1], [1, 1, 1], [1, 0, 1], [0, 1, 1]])\n",
        "\ttrain_outputs = array([[0, 1, 1, 0]]).T\n",
        "\n",
        "\tneural_network.train(train_inputs, train_outputs, 10000)\n",
        "\n",
        "\tprint ('New weights after training')\n",
        "\tprint (neural_network.weight_matrix)\n",
        "\n",
        "\t# Test the neural network with a new situation.\n",
        "\tprint (\"Testing network on new examples ->\")\n",
        "\tprint (neural_network.forward_propagation(array([1, 0, 0])))\n"
      ],
      "metadata": {
        "colab": {
          "base_uri": "https://localhost:8080/"
        },
        "id": "VYkF_7eZrad7",
        "outputId": "1205458b-8ea2-4441-bd82-735050f80399"
      },
      "execution_count": null,
      "outputs": [
        {
          "output_type": "stream",
          "name": "stdout",
          "text": [
            "Random weights at the start of training\n",
            "[[-0.16595599]\n",
            " [ 0.44064899]\n",
            " [-0.99977125]]\n",
            "New weights after training\n",
            "[[5.39428067]\n",
            " [0.19482422]\n",
            " [0.34317086]]\n",
            "Testing network on new examples ->\n",
            "[0.99995873]\n"
          ]
        }
      ]
    },
    {
      "cell_type": "markdown",
      "source": [
        "Q2: Write the Python code to implement ReLU.\n"
      ],
      "metadata": {
        "id": "bj94qLvMrnM3"
      }
    },
    {
      "cell_type": "code",
      "source": [
        "import numpy as np\n",
        "import matplotlib.pyplot as plt\n",
        "\n",
        "# Rectified Linear Unit (ReLU)\n",
        "def ReLU(x):\n",
        "  data = [max(0,value) for value in x]\n",
        "  return np.array(data, dtype=float)\n",
        "\n",
        "# Derivative for ReLU\n",
        "def der_ReLU(x):\n",
        "  data = [1 if value>0 else 0 for value in x]\n",
        "  return np.array(data, dtype=float)\n",
        "\n",
        "# Generating data for Graph\n",
        "x_data = np.linspace(-10,10,100)\n",
        "y_data = ReLU(x_data)\n",
        "dy_data = der_ReLU(x_data)\n",
        "\n",
        "# Graph\n",
        "plt.plot(x_data, y_data, x_data, dy_data)\n",
        "plt.title('ReLU Activation Function & Derivative')\n",
        "plt.legend(['ReLU','der_ReLU'])\n",
        "plt.grid()\n",
        "plt.show()"
      ],
      "metadata": {
        "colab": {
          "base_uri": "https://localhost:8080/",
          "height": 281
        },
        "id": "qtGC0GYOrsOz",
        "outputId": "47ac5b11-2f81-4591-beb9-0681b2c431d5"
      },
      "execution_count": null,
      "outputs": [
        {
          "output_type": "display_data",
          "data": {
            "text/plain": [
              "<Figure size 432x288 with 1 Axes>"
            ],
            "image/png": "[encoded data removed]"
          },
          "metadata": {
            "needs_background": "light"
          }
        }
      ]
    },
    {
      "cell_type": "markdown",
      "source": [
        "Q3: Write the Python code for a dense layer in terms of matrix multiplication."
      ],
      "metadata": {
        "id": "PuETFVCssb5K"
      }
    },
    {
      "cell_type": "code",
      "source": [
        "import numpy as np\n",
        "np.random.seed(27)\n",
        "A = np.random.randint(1,10,size = (3,3))\n",
        "B = np.random.randint(1,10,size = (3,2))\n",
        "print(f\"Matrix A:\\n {A}\\n\")\n",
        "print(f\"Matrix B:\\n {B}\\n\")\n",
        "\n",
        "def multiply_matrix(A,B):\n",
        "  global C\n",
        "  if  A.shape[1] == B.shape[0]:\n",
        "    C = np.zeros((A.shape[0],B.shape[1]),dtype = int)\n",
        "    for row in range(rows): \n",
        "        for col in range(cols):\n",
        "            for elt in range(len(B)):\n",
        "              C[row, col] += A[row, elt] * B[elt, col]\n",
        "    return C\n",
        "  else:\n",
        "    return \"Sorry, cannot multiply A and B.\"\n",
        "C = np.matmul(A,B)\n",
        "print(C)\n",
        "\n"
      ],
      "metadata": {
        "colab": {
          "base_uri": "https://localhost:8080/"
        },
        "id": "timboOpmtAm8",
        "outputId": "ca98edb6-12af-42c2-ce21-2fb6cf4ae3df"
      },
      "execution_count": null,
      "outputs": [
        {
          "output_type": "stream",
          "name": "stdout",
          "text": [
            "Matrix A:\n",
            " [[4 9 9]\n",
            " [9 1 6]\n",
            " [9 2 3]]\n",
            "\n",
            "Matrix B:\n",
            " [[2 2]\n",
            " [5 7]\n",
            " [4 4]]\n",
            "\n",
            "[[ 89 107]\n",
            " [ 47  49]\n",
            " [ 40  44]]\n"
          ]
        }
      ]
    },
    {
      "cell_type": "markdown",
      "source": [
        "Q4:Write the Python code for a dense layer in plain Python (that is, with list comprehensions\n",
        "and functionality built into Python).\n",
        "\n"
      ],
      "metadata": {
        "id": "yqSHo1e0v3zI"
      }
    },
    {
      "cell_type": "code",
      "source": [
        "matrix = [[1, 2], [3,4], [5,6], [7,8]]\n",
        "transpose = [[row[i] for row in matrix] for i in range(2)]\n",
        "print (transpose)"
      ],
      "metadata": {
        "colab": {
          "base_uri": "https://localhost:8080/"
        },
        "id": "21QNSmmNUub1",
        "outputId": "c978f88d-af10-4419-ae73-3f4da7c98051"
      },
      "execution_count": null,
      "outputs": [
        {
          "output_type": "stream",
          "name": "stdout",
          "text": [
            "[[1, 3, 5, 7], [2, 4, 6, 8]]\n"
          ]
        }
      ]
    },
    {
      "cell_type": "markdown",
      "source": [
        "Q5: What is the “hidden size” of a layer?\n",
        "ANS: \n",
        "Hidden size is number of features of the hidden state for RNN. So if you increase hidden size then you compute bigger feature as hidden state output. However, num_layers is just multiple RNN units which contain hidden states with given hidden size.\n",
        "\n",
        "\n",
        "Q6: What does the t method do in PyTorch?\n",
        "\n",
        "ANS: Expects input to be <= 2-D tensor and transposes dimensions 0 and 1. 0-D and 1-D tensors are returned as is. When input is a 2-D tensor this is equivalent to transpose(input, 0, 1) .\n",
        "\n",
        "\n",
        "Q7: Why is matrix multiplication written in plain Python very slow?\n",
        "\n",
        "ANS: Let ar,ac be the number of rows and columns in A. Similarly, let br, bc be the number of rows and columns in B. Then in order to carry out matrix multiplication it is necessary that ac == br .\n",
        "\n",
        "Q8: In Jupyter Notebook, how do you measure the time taken for a single cell to execute?\n",
        "\n",
        "ANS: in Jupyter or IPython notebook, a magic “timeit” command is available to time your code. Timeit magic command in the Jupyter notebook is used to measure the time execution of small code.\n",
        "\n",
        "Q9: What is elementwise arithmetic?\n",
        "\n",
        "ANS: elementwise (not comparable) (mathematics) Obtained by operating on one element (of a matrix etc) at a time.\n",
        "\n",
        "Q10: What is a rank-0 tensor? How do you convert it to a plain Python data type?\n",
        "\n",
        "ANS: In -dimensional space, it follows that a rank-0 tensor (i.e., a scalar) can be represented by number since scalars represent quantities with magnitude and no direction; similarly, a rank-1 tensor (i.e., a vector) in -dimensional space can be represented by numbers and a general tensor by numbers.Use : my_tensor.numpy().\n",
        "\n",
        "Q11:How does elementwise arithmetic help us speed up matmul?\n",
        "\n",
        "ANS: by eliminating loops and replacing them with PyTorch functionalities.\n",
        "\n",
        "Q12: What are the broadcasting rules?\n",
        "\n",
        "ANS: Broadcasting in NumPy follows a strict set of rules to determine the interaction between the two arrays:\n",
        "\n",
        "Rule 1: If the two arrays differ in their number of dimensions, the shape of the one with fewer dimensions is padded with ones on its leading (left) side.\n",
        "\n",
        "Rule 2: If the shape of the two arrays does not match in any dimension, the array with shape equal to 1 in that dimension is stretched to match the other shape.\n",
        "\n",
        "Rule 3: If in any dimension the sizes disagree and neither is equal to 1, an error is raised.\n",
        "\n",
        " \n",
        "\n"
      ],
      "metadata": {
        "id": "YkwvVe7zU2v-"
      }
    }
  ]
}