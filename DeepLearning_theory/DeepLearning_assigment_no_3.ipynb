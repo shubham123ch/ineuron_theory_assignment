{
  "nbformat": 4,
  "nbformat_minor": 0,
  "metadata": {
    "colab": {
      "provenance": []
    },
    "kernelspec": {
      "name": "python3",
      "display_name": "Python 3"
    },
    "language_info": {
      "name": "python"
    }
  },
  "cells": [
    {
      "cell_type": "code",
      "execution_count": null,
      "metadata": {
        "id": "3HvM1mP-icN3"
      },
      "outputs": [],
      "source": []
    },
    {
      "cell_type": "markdown",
      "source": [
        "# Shubham Kumar Chaturvedi(DeepLearning assigment no: 3)"
      ],
      "metadata": {
        "id": "IpLJVOziidrh"
      }
    },
    {
      "cell_type": "markdown",
      "source": [
        "Q1: Is it OK to initialize all the weights to the same value as long as that value is selected\n",
        "randomly using He initialization?\n",
        "\n",
        "ANS: No matter what was the input - if all weights are the same, all units in hidden layer will be the same too. This is the main issue with symmetry and reason why you should initialize weights randomly (or, at least, with different values). Note, that this issue affects all architectures that use each-to-each connections.\n",
        "\n",
        "The weights of artificial neural networks must be initialized to small random numbers. This is because this is an expectation of the stochastic optimization algorithm used to train the model, called stochastic gradient descent.\n",
        "\n",
        "Q2: Is it OK to initialize the bias terms to 0?\n",
        "\n",
        "ANS: An important thing to keep in mind is that biases have no effect what so ever when initialized with 0. let us consider a neural network with only three hidden layers with ReLu activation function in hidden layers and sigmoid for the output layer. clearly, zero initialization isn't successful in classification.\n",
        "\n",
        "Q3: Name three advantages of the SELU activation function over ReLU.\n",
        "\n",
        "ANS: Like ReLU, SELU does not have vanishing gradient problem and hence, is used in deep neural networks.\n",
        "\n",
        "Compared to ReLUs, SELUs cannot die.\n",
        "\n",
        "SELUs learn faster and better than other activation functions without needing further procession.\n",
        "\n",
        "Q4: T-he SELU activation function is a good default.\n",
        "\n",
        "-If you need the neural network to be as fast as possible, you can use one of the leaky ReLU variants instead (e.g., a simple leaky ReLU using the default hyperparameter value).\n",
        "\n",
        "-simplicity of the ReLU activation function makes it many people’s preferred option, despite the fact that it is generally outperformed by SELU and leaky ReLU. However, the ReLU activation function’s ability to output precisely zero can be useful in some cases (e.g., see Chapter 17). Moreover, it can sometimes benefit from optimized implementation as well as from hardware acceleration.\n",
        "\n",
        "-hyperbolic tangent (tanh) can be useful in the output layer if you need to output a number between –1 and 1, but nowadays it is not used much in hidden layers (except in recurrent nets).\n",
        "\n",
        "-logistic activation function is also useful in the output layer when you need to estimate a probability (e.g., for binary classification),rare in hidden layer.\n",
        "\n",
        "Q5: What may happen if you set the momentum hyperparameter too close to 1 (e.g., 0.99999)\n",
        "when using an SGD optimizer?\n",
        "\n",
        "ANS: If we set the momentum hyperparameter too close to 1 (e.g., 0.99999) when using an SGD optimizer, then the algorithm will likely pick up a lot of speed, hopefully moving roughly toward the global minimum, but its momentum will carry it right past the minimum. Then it will slow down and come back, accelerate again, overshoot again, and so on. It may oscillate this way many times before converging, so overall it will take much longer to converge than with a smaller momentum value.\n",
        "\n",
        "Q6: Name three ways you can produce a sparse model.\n",
        "\n",
        "ANS: One way to produce a sparse model (i.e., with most weights equal to zero) is to train the model normally, then zero out tiny weights.\n",
        "\n",
        "-For more sparsity, you can apply ℓ1 regularization during training, which pushes the optimizer toward sparsity.\n",
        "\n",
        "-A third option is to use the TensorFlow Model Optimization Toolkit.\n",
        "\n",
        "Q7: Does dropout slow down training? Does it slow down inference (i.e., making predictions on\n",
        "new instances)? What about MC Dropout?\n",
        "\n",
        "ANS: Yes, dropout does slow down training, in general roughly by a factor of two. However, it has no impact on inference speed since it is only turned on during training. MC Dropout is exactly like dropout during training, but it is still active during inference, so each inference is slowed down slightly. More importantly, when using MC Dropout you generally want to run inference 10 times or more to get better predictions. This means that making predictions is slowed down by a factor of 10 or more.\n",
        "\n"
      ],
      "metadata": {
        "id": "p8r6sSTCikJG"
      }
    }
  ]
}