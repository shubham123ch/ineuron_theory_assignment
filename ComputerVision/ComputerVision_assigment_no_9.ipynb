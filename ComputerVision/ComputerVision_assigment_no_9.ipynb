{
  "nbformat": 4,
  "nbformat_minor": 0,
  "metadata": {
    "colab": {
      "provenance": []
    },
    "kernelspec": {
      "name": "python3",
      "display_name": "Python 3"
    },
    "language_info": {
      "name": "python"
    },
    "accelerator": "GPU",
    "gpuClass": "standard"
  },
  "cells": [
    {
      "cell_type": "markdown",
      "source": [
        "# Shubham Kumar Chaturvedi(ComputerVision assigment no: 9)"
      ],
      "metadata": {
        "id": "nJjA_fMDNI7I"
      }
    },
    {
      "cell_type": "markdown",
      "source": [
        "Q1: What are the advantages of a CNN for image classification over a completely linked DNN?\n",
        "\n",
        "ANS: CNNs do not require human supervision for the task of identifying important features. They are very accurate at image recognition and classification. Weight sharing is another major advantage of CNNs. Convolutional neural networks also minimize computation in comparison with a regular neural network.\n",
        "\n",
        "The Convolutional Neural Network (CNN or ConvNet) is a subtype of Neural Networks that is mainly used for applications in image and speech recognition. Its built-in convolutional layer reduces the high dimensionality of images without losing its information. That is why CNNs are especially suited for this use case.\n",
        "\n",
        "Q2: What are five things you might do to fix the problem if your GPU runs out of memory while\n",
        "training a CNN?\n",
        "\n",
        "ANS:Reduce the mini-batch size. Reduce dimensionality using a larger stride in one or more layers. Remove one or more layers.\n",
        "\n",
        "Q3: Why would you use a max pooling layer instead with a convolutional layer of the same stride?\n",
        "\n",
        "ANS: Max pooling is a type of operation that is typically added to CNNs following individual convolutional layers. When added to a model, max pooling reduces the dimensionality of images by reducing the number of pixels in the output from the previous convolutional layer.\n",
        "\n",
        "Max-pooling helps in extracting low-level features like edges, points, etc. While Avg-pooling goes for smooth features. If time constraint is not a problem, then one can skip the pooling layer and use a convolutional layer to do the same.\n",
        "\n",
        "Q4: When would a local response normalization layer be useful?\n",
        "\n",
        "ANS: the reason for using LRN was to encourage lateral inhibition. It is a concept in Neurobiology that refers to the capacity of a neuron to reduce the activity of its neighbors.a type of normalization that combines normalization and an activation function, which can be used as a replacement for other normalizations and activations.\n",
        "\n",
        "Q5: In comparison to LeNet-5, what are the main innovations in AlexNet? What about GoogLeNet and\n",
        "ResNet&#39;s core innovations?\n",
        "\n",
        "ANS: The main innovation introduced by AlexNet compared to the LeNet-5 was its sheer size. AlexNet main elements are the same: a sequence of convolutional and pooling layers followed by a couple of fully-connected layers. it is much larger and deeper, and (2) it stacks convolutional layers directly on top of each other, instead of stacking a pooling layer on top of each convolutional layer.\n",
        "\n",
        "Q7: On MNIST, build your own CNN and strive to achieve the best possible accuracy.\n",
        "\n",
        "ANS: "
      ],
      "metadata": {
        "id": "8wM4GOgsNNpm"
      }
    },
    {
      "cell_type": "code",
      "source": [
        "from numpy import mean\n",
        "from numpy import std\n",
        "from matplotlib import pyplot as plt\n",
        "from sklearn.model_selection import KFold\n",
        "from tensorflow.keras.datasets import mnist\n",
        "from tensorflow.keras.utils import to_categorical\n",
        "from tensorflow.keras.models import Sequential\n",
        "from tensorflow.keras.layers import Conv2D\n",
        "from tensorflow.keras.layers import MaxPooling2D\n",
        "from tensorflow.keras.layers import Dense\n",
        "from tensorflow.keras.layers import Flatten\n",
        "from tensorflow.keras.optimizers import SGD\n",
        " \n",
        "# load train and test dataset\n",
        "def load_dataset():\n",
        " # load dataset\n",
        " (trainX, trainY), (testX, testY) = mnist.load_data()\n",
        " # reshape dataset to have a single channel\n",
        " trainX = trainX.reshape((trainX.shape[0], 28, 28, 1))\n",
        " testX = testX.reshape((testX.shape[0], 28, 28, 1))\n",
        " # one hot encode target values\n",
        " trainY = to_categorical(trainY)\n",
        " testY = to_categorical(testY)\n",
        " return trainX, trainY, testX, testY\n",
        " \n",
        "# scale pixels\n",
        "def prep_pixels(train, test):\n",
        " # convert from integers to floats\n",
        " train_norm = train.astype('float32')\n",
        " test_norm = test.astype('float32')\n",
        " # normalize to range 0-1\n",
        " train_norm = train_norm / 255.0\n",
        " test_norm = test_norm / 255.0\n",
        " # return normalized images\n",
        " return train_norm, test_norm\n",
        " \n",
        "# define cnn model\n",
        "def define_model():\n",
        " model = Sequential()\n",
        " model.add(Conv2D(32, (3, 3), activation='relu', kernel_initializer='he_uniform', input_shape=(28, 28, 1)))\n",
        " model.add(MaxPooling2D((2, 2)))\n",
        " model.add(Flatten())\n",
        " model.add(Dense(100, activation='relu', kernel_initializer='he_uniform'))\n",
        " model.add(Dense(10, activation='softmax'))\n",
        " # compile model\n",
        " opt = SGD(learning_rate=0.01, momentum=0.9)\n",
        " model.compile(optimizer=opt, loss='categorical_crossentropy', metrics=['accuracy'])\n",
        " return model\n",
        " \n",
        "# evaluate a model using k-fold cross-validation\n",
        "def evaluate_model(dataX, dataY, n_folds=5):\n",
        " scores, histories = list(), list()\n",
        " # prepare cross validation\n",
        " kfold = KFold(n_folds, shuffle=True, random_state=1)\n",
        " # enumerate splits\n",
        " for train_ix, test_ix in kfold.split(dataX):\n",
        "\n",
        "  # define model\n",
        "  model = define_model()\n",
        "  # select rows for train and test\n",
        "  trainX, trainY, testX, testY = dataX[train_ix], dataY[train_ix], dataX[test_ix], dataY[test_ix]\n",
        "  # fit model\n",
        "  history = model.fit(trainX, trainY, epochs=10, batch_size=32, validation_data=(testX, testY), verbose=0)\n",
        "  # evaluate model\n",
        "  _, acc = model.evaluate(testX, testY, verbose=0)\n",
        "  print('> %.3f' % (acc * 100.0))\n",
        "  # stores scores\n",
        "  scores.append(acc)\n",
        "  histories.append(history)\n",
        "  return scores, histories\n",
        "    \n",
        "# plot diagnostic learning curves\n",
        "def summarize_diagnostics(histories):\n",
        "\n",
        " for i in range(len(histories)):\n",
        "\n",
        "  # plot loss\n",
        "  plt.subplot(2, 1, 1)\n",
        "  plt.title('Cross Entropy Loss')\n",
        "  plt.plot(histories[i].history['loss'], color='blue', label='train')\n",
        "  plt.plot(histories[i].history['val_loss'], color='orange', label='test')\n",
        "  # plot accuracy\n",
        "  plt.subplot(2, 1, 2)\n",
        "  plt.title('Classification Accuracy')\n",
        "  plt.plot(histories[i].history['accuracy'], color='blue', label='train')\n",
        "  plt.plot(histories[i].history['val_accuracy'], color='orange', label='test')\n",
        "  plt.show()\n",
        "  \n",
        "# summarize model performance\n",
        "def summarize_performance(scores):\n",
        "\n",
        " # print summary\n",
        " print('Accuracy: mean=%.3f std=%.3f, n=%d' % (mean(scores)*100, std(scores)*100, len(scores)))\n",
        " # box and whisker plots of results\n",
        " plt.boxplot(scores)\n",
        " plt.show()\n",
        " \n",
        "# run the test harness for evaluating a model\n",
        "def run_test_harness():\n",
        "  \n",
        " # load dataset\n",
        " trainX, trainY, testX, testY = load_dataset()\n",
        " # prepare pixel data\n",
        " trainX, testX = prep_pixels(trainX, testX)\n",
        " # evaluate model\n",
        " scores, histories = evaluate_model(trainX, trainY)\n",
        " # learning curves\n",
        " summarize_diagnostics(histories)\n",
        " # summarize estimated performance\n",
        " summarize_performance(scores)\n",
        " \n",
        "# entry point, run the test harness\n",
        "run_test_harness()"
      ],
      "metadata": {
        "colab": {
          "base_uri": "https://localhost:8080/",
          "height": 600
        },
        "id": "dey_wHEISpyH",
        "outputId": "5734040a-54e5-4cea-bc1a-4cf875132ead"
      },
      "execution_count": 3,
      "outputs": [
        {
          "output_type": "stream",
          "name": "stdout",
          "text": [
            "Downloading data from https://storage.googleapis.com/tensorflow/tf-keras-datasets/mnist.npz\n",
            "11490434/11490434 [==============================] - 0s 0us/step\n",
            "> 98.667\n"
          ]
        },
        {
          "output_type": "display_data",
          "data": {
            "text/plain": [
              "<Figure size 432x288 with 2 Axes>"
            ],
            "image/png": "[encoded data removed]"
          },
          "metadata": {
            "needs_background": "light"
          }
        },
        {
          "output_type": "stream",
          "name": "stdout",
          "text": [
            "Accuracy: mean=98.667 std=0.000, n=1\n"
          ]
        },
        {
          "output_type": "display_data",
          "data": {
            "text/plain": [
              "<Figure size 432x288 with 1 Axes>"
            ],
            "image/png": "[encoded data removed]"
          },
          "metadata": {
            "needs_background": "light"
          }
        }
      ]
    }
  ]
}