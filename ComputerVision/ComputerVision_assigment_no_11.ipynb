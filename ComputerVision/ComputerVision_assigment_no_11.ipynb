{
  "nbformat": 4,
  "nbformat_minor": 0,
  "metadata": {
    "colab": {
      "provenance": []
    },
    "kernelspec": {
      "name": "python3",
      "display_name": "Python 3"
    },
    "language_info": {
      "name": "python"
    }
  },
  "cells": [
    {
      "cell_type": "markdown",
      "source": [
        "# Shubham Kumar Chaturvedi(ComputerVision assigment no: 11)"
      ],
      "metadata": {
        "id": "tuJfib9rX-xr"
      }
    },
    {
      "cell_type": "markdown",
      "source": [
        "Q1: What do REGION PROPOSALS entail?\n",
        "\n",
        "ANS: A Region Proposal Network, or RPN, is a fully convolutional network that simultaneously predicts object bounds and objectness scores at each position. The RPN is trained end-to-end to generate high-quality region proposals.\n",
        "\n",
        "Q2: What do you mean by NON-MAXIMUM SUPPRESSION? (NMS)\n",
        "\n",
        "ANS: Non Maximum Suppression is a computer vision method that selects a single entity out of many overlapping entities (for example bounding boxes in object detection). The criteria is usually discarding entities that are below a given probability bound.\n",
        "\n",
        "Q3: What exactly is mAP?\n",
        "\n",
        "ANS: Mean Average Precision(mAP) is the current benchmark metric used by the computer vision research community to evaluate the robustness of object detection models.\n",
        "\n",
        "Q4: What is a frames per second (FPS)?\n",
        "\n",
        "ANS: Frame rate is the measurement of how quickly a number of frames appears within a second, which is why it's also called FPS (frames per second). Motion pictures, TV broadcasts, streaming video content, and even smartphones use the standard frame rate of 24fps.\n",
        "\n",
        "Q5: What is an IOU (INTERSECTION OVER UNION)?\n",
        "\n",
        "ANS: What is intersection over union used for?\n",
        "Image result for What is an IOU (INTERSECTION OVER UNION)?\n",
        "Intersection over Union is an evaluation metric used to measure the accuracy of an object detector on a particular dataset. We often see this evaluation metric used in object detection challenges such as the popular PASCAL VOC challenge.\n",
        "\n",
        "Q6: Describe the PRECISION-RECALL CURVE (PR CURVE)\n",
        "\n",
        "ANS: A PR curve is simply a graph with Precision values on the y-axis and Recall values on the x-axis. In other words, the PR curve contains TP/(TP+FN) on the y-axis and TP/(TP+FP) on the x-axis. It is important to note that Precision is also called the Positive Predictive Value (PPV).\n",
        "\n",
        "Q7: What is the term &quot;selective search&quot;?\n",
        "\n",
        "ANS: elective Search is a region proposal algorithm used in object detection. It is designed to be fast with a very high recall. It starts by over-segmenting the image based on intensity of the pixels using a graph-based segmentation method by Felzenszwalb and Huttenlocher. Selective Search then takes these oversegments as initial input and performs the following steps.\n",
        "\n",
        "Q8: Describe the R-CNN model&#39;s four components.\n",
        "\n",
        "ANS: One deep learning approach, regions with convolutional neural networks (R-CNN), combines rectangular region proposals with convolutional neural network features. R-CNN is a two-stage detection algorithm. The first stage identifies a subset of regions in an image that might contain an object.\n",
        "Convolutional networks are composed of an input layer, an output layer, and one or more hidden layers.\n",
        "\n",
        "Q9: What exactly is the Localization Module?\n",
        "\n",
        "ANS: Object localization is a fundamental practical task in Computer Vision, which aims to locate the target within the image or video. It has been used in many applications, including human face recognition, retail checkout recognition, automated driving, and automatic monitoring systems.\n",
        "\n",
        "Q10: What are the R-CNN DISADVANTAGES?\n",
        "\n",
        "ANS: there are some drawbacks to using the R-CNN version for Object Detection. They are: It consumes a huge amount of time, storage, and computation power. It has a complex multi-stage training pipeline(3 stage — Log loss, SVM, and BBox Regressor's L2 loss)."
      ],
      "metadata": {
        "id": "qEi6kPu9YDW5"
      }
    }
  ]
}