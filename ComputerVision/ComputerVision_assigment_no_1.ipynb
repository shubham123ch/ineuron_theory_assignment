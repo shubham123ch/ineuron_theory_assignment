{
  "nbformat": 4,
  "nbformat_minor": 0,
  "metadata": {
    "colab": {
      "provenance": []
    },
    "kernelspec": {
      "name": "python3",
      "display_name": "Python 3"
    },
    "language_info": {
      "name": "python"
    }
  },
  "cells": [
    {
      "cell_type": "markdown",
      "source": [
        "# Shubham Kumar Chaturvedi(ComputerVision assigment no: 1)"
      ],
      "metadata": {
        "id": "DD-F4fRqxiW6"
      }
    },
    {
      "cell_type": "markdown",
      "source": [
        "Q1: What exactly is a feature?\n",
        "\n",
        "ANS: a feature is an individual measurable property or characteristic of a phenomenon. Choosing informative, discriminating and independent features is a crucial element of effective algorithms in pattern recognition, classification and regression.\n",
        "\n",
        "Q2: For a top edge detector, write out the convolutional kernel matrix.\n",
        "\n",
        "ANS: To obtain the edge information, a differential convolution kernel is used. Of these kernels, Sobel convolution kernels are used for horizontal and vertical edge detection.\n",
        "\n",
        "Q3: Describe the mathematical operation that a 3x3 kernel performs on a single pixel in an image.\n",
        "\n",
        "ANS: In image processing, a kernel, convolution matrix, or mask is a small matrix. It is used for blurring, sharpening, embossing, edge detection, and more. This is accomplished by doing a convolution between a kernel and an image.\n",
        "\n",
        "Q4: What is the significance of a convolutional kernel added to a 3x3 matrix of zeroes?\n",
        "\n",
        "ANS: Convolution is using a 'kernel' to extract certain 'features' from an input image. Let me explain. A kernel is a matrix, which is slid across the image and multiplied with the input such that the output is enhanced in a certain desirable manner.\n",
        "\n",
        "Q5: What exactly is padding?\n",
        "\n",
        "ANS: Padding is used to create space around an element's content, inside of any defined borders.\n",
        "\n",
        "Q6: What is the concept of stride?\n",
        "\n",
        "ANS: Stride is a component of convolutional neural networks, or neural networks tuned for the compression of images and video data. Stride is a parameter of the neural network's filter that modifies the amount of movement over the image or video.\n",
        "\n",
        "Q7: What are the shapes of PyTorch&#39;s 2D convolution&#39;s input and weight parameters?\n",
        "\n",
        "ANS: 2D convolution over an input signal composed of several input planes.  The parameters kernel_size , stride , padding.\n",
        "\n",
        "Q8: What exactly is a channel?\n",
        "\n",
        "ANS: Color digital images are made of pixels, and pixels are made of combinations of primary colors represented by a series of code. A channel in this context is the grayscale image of the same size as a color image, made of just one of these primary colors.\n",
        "\n",
        "Q9:9.Explain relationship between matrix multiplication and a convolution?\n",
        "\n",
        "ANS: convolutions can be mapped as matrix multiplication operations by flattening and rearranging the weights and input features.Convolution, for discrete-time sequences, is equivalent to polynomial multiplication which is not the same as the term-by-term multiplication."
      ],
      "metadata": {
        "id": "Xx577CD3xzUM"
      }
    }
  ]
}