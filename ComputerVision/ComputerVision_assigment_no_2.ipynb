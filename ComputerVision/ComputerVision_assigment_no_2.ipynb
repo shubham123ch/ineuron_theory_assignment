{
  "nbformat": 4,
  "nbformat_minor": 0,
  "metadata": {
    "colab": {
      "provenance": []
    },
    "kernelspec": {
      "name": "python3",
      "display_name": "Python 3"
    },
    "language_info": {
      "name": "python"
    }
  },
  "cells": [
    {
      "cell_type": "markdown",
      "source": [
        "# Shubham Kumar Chaturvedi(ComputerVision assigment no: 2)"
      ],
      "metadata": {
        "id": "CXrj55BM2XUr"
      }
    },
    {
      "cell_type": "markdown",
      "source": [
        "Q1: Explain convolutional neural network, and how does it work?\n",
        "\n",
        "ANS: A convolutional neural network (CNN or ConvNet) is a network architecture for deep learning that learns directly from data. CNNs are particularly useful for finding patterns in images to recognize objects, classes, and categories. They can also be quite effective for classifying audio, time-series, and signal data.\n",
        "\n",
        "A Convolutional Neural Network, also known as CNN or ConvNet, is a class of neural networks that specializes in processing data that has a grid-like topology, such as an image. A digital image is a binary representation of visual data.\n",
        "\n",
        "Q2: How does refactoring parts of your neural network definition favor you?\n",
        "\n",
        "ANS:  DNN refactoring does not guarantee functional equivalence of the two networks, but rather it aims to preserve the accuracy of the original network while producing a simpler network that is amenable to more efficient property verification.\n",
        "\n",
        "Q3: What does it mean to flatten? Is it necessary to include it in the MNIST CNN? What is the reason\n",
        "for this?\n",
        "\n",
        "ANS:Flatten is the function that converts the pooled feature map to a single column that is passed to the fully connected layer. Dense adds the fully connected layer to the neural network.\n",
        "\n",
        "Flattening is mostly done to put data in a format that a relational data warehouse can use natively, and make sure queries perform well. But you do lose information; it's like having a shadow instead of the real object. When you flatten you lose information.\n",
        "\n",
        "Q4: What exactly does NCHW stand for?\n",
        "\n",
        "ANS: NCHW stands for: batch N, channels C, depth D, height H, width W. It is a way to store multidimensional arrays / data frames / matrix into memory, which can be considered as a 1-D array.\n",
        "\n",
        "Q5: Explain definition of receptive field?\n",
        "\n",
        "ANS:he receptive field includes both the classical and the nonclassical areas. Thus, it is both the region within which sensory stimuli cause increases or decreases in firing and the region within which stimuli modulate responses.\n",
        "\n",
        "A specific region of sensory space in which an appropriate stimulus can drive an electrical response in a sensory neuron.\n",
        "\n",
        "Q6: What is the scale of an activation&#39;s receptive field after two stride-2 convolutions? What is the\n",
        "reason for this?\n",
        "\n",
        "ANS: receptive fields are about the area (in pixels) covered by the convolutional filter(s), not the size of the input. Padding changes the effective input size, so it can't change the receptive field. Stride changes how much area is covered by the convolution, so it increases receptive field.\n",
        "\n",
        "Q7: What is the tensor representation of a color image?\n",
        "\n",
        "ANS: For a colour photograph, each pixel is described by three numbers, ranging from 0 to 1, that describe the redness, blueness and greenness of that pixel. The photo is described by a 3D array (a tensor) of size 1000 x 667 x 3.\n",
        "\n",
        "The RGB color image is seen as a 3rd-order tensor to exploit the spatial and interchannel correlation, so that blurring effects are captured more robustly. The tensor is decomposed into different two-dimensional matrices.\n",
        "\n",
        "Q8: How does a color input interact with a convolution?\n",
        "\n",
        "ANS: The first layer of a Convolutional Neural Network is always a Convolutional Layer. Convolutional layers apply a convolution operation to the input, passing the result to the next layer. A convolution converts all the pixels in its receptive field into a single value."
      ],
      "metadata": {
        "id": "PhzbJSe62btw"
      }
    }
  ]
}