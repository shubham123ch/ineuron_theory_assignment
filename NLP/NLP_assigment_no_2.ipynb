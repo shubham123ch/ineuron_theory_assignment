{
  "nbformat": 4,
  "nbformat_minor": 0,
  "metadata": {
    "colab": {
      "provenance": []
    },
    "kernelspec": {
      "name": "python3",
      "display_name": "Python 3"
    },
    "language_info": {
      "name": "python"
    }
  },
  "cells": [
    {
      "cell_type": "markdown",
      "source": [
        "# Shubham Kumar Chaturvedi(NLP assigment no: 2)"
      ],
      "metadata": {
        "id": "BG9piQgDSd_F"
      }
    },
    {
      "cell_type": "markdown",
      "source": [
        "Q1: What are Corpora?\n",
        "\n",
        "ANS: Linguistic Corpora: A collection of linguistic data, either written texts or a transcription of recorded speech, which can be used as a starting-point of linguistic description or as a means of verifying hypotheses about a language (corpus linguistics). A corpus or text corpus is a language resource consisting of a large and structured set of texts. In corpus linguistics, they are used to do statistical analysis and hypothesis testing, checking occurrences or validating linguistic rules within a specific language territory.\n",
        "\n",
        "Q2: What are Tokens?\n",
        "\n",
        "ANS: In general, a token is an object that represents something else, such as another object (either physical or virtual), or an abstract concept as, for example, a gift is sometimes referred to as a token of the giver's esteem for the recipient. In computers, there are a number of types of tokens.\n",
        "\n",
        "Q3: What are Unigrams, Bigrams, Trigrams?\n",
        "\n",
        "ANS: N-Grams are phrases cut out of a sentence with N cinsecutive words. Thus a Unigram takes a sentence and gives us all the words in that we fence. A Bigram takes a sentence and gives us sets of two consecutive words in the sentence. A Trigram gives sets of threee consecutive words in a sentence.\n",
        "\n",
        "Let me explain with an example.\n",
        "\n",
        "Unigram - [Let] [me] [explain] [with] [an] [example.]\n",
        "\n",
        "Bigram [let me] [me explain] [explain with] [with an] [an example]\n",
        "\n",
        "Trigram [let me explain] [me explain with] [explain with an] [with an example]\n",
        "\n",
        "Q4: How to generate n-grams from text?\n",
        "\n",
        "ANS: Generating a list of n-grams. For a given piece of text, we can compute a list of all the n-grams. The size of the n-grams ( n )​ must be specified in the arguments. All you have to do is iterate through the string with a fixed window of size n .\n",
        "\n",
        "Q5: Explain Lemmatization\n",
        "\n",
        "ANS: Lemmatization usually refers to doing things properly with the use of a vocabulary and morphological analysis of words, normally aiming to remove inflectional endings only and to return the base or dictionary form of a word, which is known as the lemma.\n",
        "\n",
        "Q6: Explain Stemming\n",
        "\n",
        "ANS: Stemming is a technique used to extract the base form of the words by removing affixes from them. It is just like cutting down the branches of a tree to its stems. For example, the stem of the words eating, eats, eaten is eat. Search engines use stemming for indexing the words.Stemming is a process by which word endings or other affixes are removed or modified in order that word forms which differ in non-relevant ways may be merged and treated as equivalent. A computer program which performs such a transformation is referred to as a stemmer or stemming algorithm.\n",
        "\n",
        "Q7: Explain Part-of-speech (POS) tagging\n",
        "\n",
        "ANS: In corpus linguistics, part-of-speech tagging (POS tagging or PoS tagging or POST), also called grammatical tagging is the process of marking up a word in a text (corpus) as corresponding to a particular part of speech, based on both its definition and its context.Part-of-speech (POS) tagging is a popular Natural Language Processing process which refers to categorizing words in a text (corpus) in correspondence with a particular part of speech, depending on the definition of the word and its context.\n",
        "\n",
        "Q8: Explain Chunking or shallow parsing\n",
        "\n",
        "ANS: Shallow parsing (also chunking or light parsing) is an analysis of a sentence which first identifies constituent parts of sentences (nouns, verbs, adjectives, etc.) and then links them to higher order units that have discrete grammatical meanings (noun groups or phrases, verb groups, etc.).In data deduplication, data synchronization and remote data compression, Chunking is a process to split a file into smaller pieces called chunks by the chunking algorithm.\n",
        "\n",
        "Q9: Explain Noun Phrase (NP) chunking\n",
        "\n",
        "ANS: Chunking is a process of extracting phrases from unstructured text, which means analyzing a sentence to identify the constituents(Noun Groups, Verbs, verb groups, etc.) However, it does not specify their internal structure, nor their role in the main sentence.Dividing sentences into non-overlapping phrases is called text chunking.The form of n-gram that takes center stage in NLP context analysis is the noun phrase. Noun phrases are part of speech patterns that include a noun. They can also include whatever other parts of speech make grammatical sense, and can include multiple nouns. NP chunking deals with a part of this task: it involves recognizing the chunks that consist of noun phrases (NPs).\n",
        "\n",
        "Q10: Explain Named Entity Recognition\n",
        "\n",
        "ANS: Named-entity recognition is a subtask of information extraction that seeks to locate and classify named entities mentioned in unstructured text into pre-defined categories such as person names, organizations, locations, medical codes, time expressions, quantities, monetary values, percentages, etc.Named entity recognition (NER) is a sub-task of information extraction (IE) that seeks out and categorizes specified entities in a body or bodies of texts. NER is also known simply as entity identification, entity chunking and entity extraction."
      ],
      "metadata": {
        "id": "JJQd-a7JSg1f"
      }
    }
  ]
}